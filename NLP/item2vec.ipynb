{
 "cells": [
  {
   "cell_type": "code",
   "execution_count": 1,
   "metadata": {},
   "outputs": [],
   "source": [
    "import pandas as pd"
   ]
  },
  {
   "cell_type": "code",
   "execution_count": 2,
   "metadata": {},
   "outputs": [],
   "source": [
    "data = pd.read_csv('/root/autodl-tmp/wq/RS_Keras/data/Sohu2022_data/rec_data/test-dataset.csv')"
   ]
  },
  {
   "cell_type": "code",
   "execution_count": 3,
   "metadata": {},
   "outputs": [
    {
     "data": {
      "text/html": [
       "<div>\n",
       "<style scoped>\n",
       "    .dataframe tbody tr th:only-of-type {\n",
       "        vertical-align: middle;\n",
       "    }\n",
       "\n",
       "    .dataframe tbody tr th {\n",
       "        vertical-align: top;\n",
       "    }\n",
       "\n",
       "    .dataframe thead th {\n",
       "        text-align: right;\n",
       "    }\n",
       "</style>\n",
       "<table border=\"1\" class=\"dataframe\">\n",
       "  <thead>\n",
       "    <tr style=\"text-align: right;\">\n",
       "      <th></th>\n",
       "      <th>testSampleId</th>\n",
       "      <th>pvId</th>\n",
       "      <th>suv</th>\n",
       "      <th>itemId</th>\n",
       "      <th>userSeq</th>\n",
       "      <th>logTs</th>\n",
       "      <th>operator</th>\n",
       "      <th>browserType</th>\n",
       "      <th>deviceType</th>\n",
       "      <th>osType</th>\n",
       "      <th>province</th>\n",
       "      <th>city</th>\n",
       "    </tr>\n",
       "  </thead>\n",
       "  <tbody>\n",
       "    <tr>\n",
       "      <th>0</th>\n",
       "      <td>5000001</td>\n",
       "      <td>1640655422697H3zq4ze</td>\n",
       "      <td>16412563805927MMCH5</td>\n",
       "      <td>10113821</td>\n",
       "      <td>NaN</td>\n",
       "      <td>1641257054454</td>\n",
       "      <td>2224589</td>\n",
       "      <td>3619320</td>\n",
       "      <td>2326891</td>\n",
       "      <td>3585570</td>\n",
       "      <td>3826939</td>\n",
       "      <td>2414137</td>\n",
       "    </tr>\n",
       "    <tr>\n",
       "      <th>1</th>\n",
       "      <td>5000002</td>\n",
       "      <td>1640655422697H3zq4ze</td>\n",
       "      <td>16412563805927MMCH5</td>\n",
       "      <td>10123383</td>\n",
       "      <td>NaN</td>\n",
       "      <td>1641257039412</td>\n",
       "      <td>2224589</td>\n",
       "      <td>3619320</td>\n",
       "      <td>2326891</td>\n",
       "      <td>3585570</td>\n",
       "      <td>3826939</td>\n",
       "      <td>2414137</td>\n",
       "    </tr>\n",
       "    <tr>\n",
       "      <th>2</th>\n",
       "      <td>5000003</td>\n",
       "      <td>1640655422697H3zq4ze</td>\n",
       "      <td>16412563805927MMCH5</td>\n",
       "      <td>10113964</td>\n",
       "      <td>NaN</td>\n",
       "      <td>1641256862448</td>\n",
       "      <td>2224589</td>\n",
       "      <td>3619320</td>\n",
       "      <td>2326891</td>\n",
       "      <td>3585570</td>\n",
       "      <td>3826939</td>\n",
       "      <td>2414137</td>\n",
       "    </tr>\n",
       "    <tr>\n",
       "      <th>3</th>\n",
       "      <td>5000004</td>\n",
       "      <td>1640655422697H3zq4ze</td>\n",
       "      <td>16412563805927MMCH5</td>\n",
       "      <td>10124534</td>\n",
       "      <td>NaN</td>\n",
       "      <td>1641256863017</td>\n",
       "      <td>2224589</td>\n",
       "      <td>3619320</td>\n",
       "      <td>2326891</td>\n",
       "      <td>3585570</td>\n",
       "      <td>3826939</td>\n",
       "      <td>2414137</td>\n",
       "    </tr>\n",
       "    <tr>\n",
       "      <th>4</th>\n",
       "      <td>5000005</td>\n",
       "      <td>1640655422697H3zq4ze</td>\n",
       "      <td>16412563805927MMCH5</td>\n",
       "      <td>10107295</td>\n",
       "      <td>NaN</td>\n",
       "      <td>1641256818096</td>\n",
       "      <td>2224589</td>\n",
       "      <td>3619320</td>\n",
       "      <td>2326891</td>\n",
       "      <td>3585570</td>\n",
       "      <td>3826939</td>\n",
       "      <td>2414137</td>\n",
       "    </tr>\n",
       "  </tbody>\n",
       "</table>\n",
       "</div>"
      ],
      "text/plain": [
       "   testSampleId                  pvId                  suv    itemId userSeq  \\\n",
       "0       5000001  1640655422697H3zq4ze  16412563805927MMCH5  10113821     NaN   \n",
       "1       5000002  1640655422697H3zq4ze  16412563805927MMCH5  10123383     NaN   \n",
       "2       5000003  1640655422697H3zq4ze  16412563805927MMCH5  10113964     NaN   \n",
       "3       5000004  1640655422697H3zq4ze  16412563805927MMCH5  10124534     NaN   \n",
       "4       5000005  1640655422697H3zq4ze  16412563805927MMCH5  10107295     NaN   \n",
       "\n",
       "           logTs  operator  browserType  deviceType   osType  province  \\\n",
       "0  1641257054454   2224589      3619320     2326891  3585570   3826939   \n",
       "1  1641257039412   2224589      3619320     2326891  3585570   3826939   \n",
       "2  1641256862448   2224589      3619320     2326891  3585570   3826939   \n",
       "3  1641256863017   2224589      3619320     2326891  3585570   3826939   \n",
       "4  1641256818096   2224589      3619320     2326891  3585570   3826939   \n",
       "\n",
       "      city  \n",
       "0  2414137  \n",
       "1  2414137  \n",
       "2  2414137  \n",
       "3  2414137  \n",
       "4  2414137  "
      ]
     },
     "execution_count": 3,
     "metadata": {},
     "output_type": "execute_result"
    }
   ],
   "source": [
    "data.head()"
   ]
  },
  {
   "cell_type": "code",
   "execution_count": 4,
   "metadata": {},
   "outputs": [],
   "source": [
    "def split_item(one_data):\n",
    "    tmp_item_list = []\n",
    "    for one_item in str(one_data).split(\";\"):  \n",
    "        tmp_item_list.append(one_item.split(':')[0])\n",
    "    return tmp_item_list"
   ]
  },
  {
   "cell_type": "code",
   "execution_count": 5,
   "metadata": {},
   "outputs": [],
   "source": [
    "def split_time(one_data):\n",
    "    tmp_time_list = []\n",
    "    for one_item in str(one_data).split(\";\"):  \n",
    "        tmp_time_list.append(one_item.split(':')[-1])\n",
    "    return tmp_time_list  "
   ]
  },
  {
   "cell_type": "code",
   "execution_count": 6,
   "metadata": {},
   "outputs": [],
   "source": [
    "data['item_list'] = data.userSeq.apply(split_item)"
   ]
  },
  {
   "cell_type": "code",
   "execution_count": 7,
   "metadata": {},
   "outputs": [],
   "source": [
    "data['time_list'] = data.userSeq.apply(split_time)"
   ]
  },
  {
   "cell_type": "code",
   "execution_count": 8,
   "metadata": {},
   "outputs": [],
   "source": [
    "all_item_list = []\n",
    "for item_list in data['item_list']:\n",
    "    all_item_list.append(item_list)"
   ]
  },
  {
   "cell_type": "code",
   "execution_count": 9,
   "metadata": {},
   "outputs": [],
   "source": [
    "from gensim.models import Word2Vec\n",
    "\n",
    "train_model = Word2Vec(all_item_list, vector_size=50, window=5, min_count=1, workers=4)\n",
    "train_model.save('./item2vec_model_1')\n",
    "\n",
    "train_model.wv.save_word2vec_format('./item2vec_model_1.txt', binary=False)\n"
   ]
  },
  {
   "cell_type": "code",
   "execution_count": 18,
   "metadata": {},
   "outputs": [],
   "source": [
    "\n",
    "with open(\"/root/autodl-tmp/wq/RS_Keras/NLP/item2vec_model_1.txt\", \"r\") as f:\n",
    "    data = f.readlines()\n",
    "\n"
   ]
  },
  {
   "cell_type": "code",
   "execution_count": 25,
   "metadata": {},
   "outputs": [
    {
     "data": {
      "text/plain": [
       "'10107295 4.8542876 0.94533473 -2.1376724 0.48599917 -1.2650611 0.97764015 4.4352145 2.2777581 -5.7036996 -0.16201553 -2.279153 -1.4311581 -0.61247367 3.6855762 1.2098246 1.2522758 -2.0486436 -2.6644979 -1.4105889 2.7804 -3.8610468 -0.91787905 1.7842959 1.7428234 2.2724113 -2.6854274 0.93561834 1.47451 -5.551477 2.5907621 -4.166746 -1.312267 -9.119289 3.4527733 4.7039742 -4.1821933 0.90729576 3.0419197 -1.2545053 -0.2833968 0.19055784 0.6913238 0.4439216 10.245984 3.6794252 -3.6153827 3.2352345 -5.6665463 7.218019 0.49326256'"
      ]
     },
     "execution_count": 25,
     "metadata": {},
     "output_type": "execute_result"
    }
   ],
   "source": [
    "data[1].strip('\\n')"
   ]
  },
  {
   "cell_type": "code",
   "execution_count": 23,
   "metadata": {},
   "outputs": [],
   "source": [
    "import numpy as np\n",
    "from sklearn.metrics.pairwise import cosine_similarity"
   ]
  },
  {
   "cell_type": "code",
   "execution_count": 28,
   "metadata": {},
   "outputs": [
    {
     "data": {
      "text/plain": [
       "array([[0.99399909]])"
      ]
     },
     "execution_count": 28,
     "metadata": {},
     "output_type": "execute_result"
    }
   ],
   "source": [
    "tmp_1 = np.array([1,2,3,4]).reshape(1,-1)\n",
    "tmp_2 = np.array([1,2,3,5]).reshape(1,-1)\n",
    "cosine_similarity(tmp_1,tmp_2)"
   ]
  }
 ],
 "metadata": {
  "kernelspec": {
   "display_name": "Python 3.8.10 ('base': conda)",
   "language": "python",
   "name": "python3"
  },
  "language_info": {
   "codemirror_mode": {
    "name": "ipython",
    "version": 3
   },
   "file_extension": ".py",
   "mimetype": "text/x-python",
   "name": "python",
   "nbconvert_exporter": "python",
   "pygments_lexer": "ipython3",
   "version": "3.8.10"
  },
  "orig_nbformat": 4,
  "vscode": {
   "interpreter": {
    "hash": "2f394aca7ca06fed1e6064aef884364492d7cdda3614a461e02e6407fc40ba69"
   }
  }
 },
 "nbformat": 4,
 "nbformat_minor": 2
}

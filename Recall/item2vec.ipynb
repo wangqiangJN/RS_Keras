{
 "cells": [
  {
   "cell_type": "code",
   "execution_count": 26,
   "metadata": {},
   "outputs": [],
   "source": [
    "import pandas as pd\n",
    "import numpy as np"
   ]
  },
  {
   "cell_type": "code",
   "execution_count": 28,
   "metadata": {},
   "outputs": [],
   "source": [
    "data = pd.read_csv('/root/autodl-tmp/wq/RS_Keras/data/Sohu2022_data/rec_data/train-dataset.csv')"
   ]
  },
  {
   "cell_type": "code",
   "execution_count": 4,
   "metadata": {},
   "outputs": [],
   "source": [
    "def split_item(one_data):\n",
    "    '''\n",
    "    将userSeq列中item添加到新列表中作为特征列\n",
    "    '''\n",
    "    tmp_item_list = []\n",
    "    for one_item in str(one_data).split(\";\"):  \n",
    "        tmp_item_list.append(one_item.split(':')[0])\n",
    "    return tmp_item_list"
   ]
  },
  {
   "cell_type": "code",
   "execution_count": 5,
   "metadata": {},
   "outputs": [],
   "source": [
    "def split_time(one_data):\n",
    "    '''\n",
    "    将userSeq列中time添加到新列表中作为特征列\n",
    "    '''\n",
    "    tmp_time_list = []\n",
    "    for one_item in str(one_data).split(\";\"):  \n",
    "        tmp_time_list.append(one_item.split(':')[-1])\n",
    "    return tmp_time_list  "
   ]
  },
  {
   "cell_type": "code",
   "execution_count": 9,
   "metadata": {},
   "outputs": [],
   "source": [
    "data['item_list'] = data.userSeq.apply(split_item)"
   ]
  },
  {
   "cell_type": "code",
   "execution_count": 10,
   "metadata": {},
   "outputs": [],
   "source": [
    "data['time_list'] = data.userSeq.apply(split_time)"
   ]
  },
  {
   "cell_type": "markdown",
   "metadata": {},
   "source": [
    "#### 准备word2vec的输入：二维列表"
   ]
  },
  {
   "cell_type": "code",
   "execution_count": 11,
   "metadata": {},
   "outputs": [],
   "source": [
    "all_item_list = []\n",
    "for item_list in data['item_list']:\n",
    "    all_item_list.append(item_list)"
   ]
  },
  {
   "cell_type": "code",
   "execution_count": 14,
   "metadata": {},
   "outputs": [],
   "source": [
    "from gensim.test.utils import common_texts\n",
    "from gensim.models import Word2Vec\n",
    "\n",
    "train_model = Word2Vec(all_item_list, vector_size=50, window=5, min_count=1, workers=4)\n",
    "train_model.save('./MyModel')\n",
    "\n",
    "train_model.wv.save_word2vec_format('./item.txt', binary=False)\n"
   ]
  },
  {
   "cell_type": "markdown",
   "metadata": {},
   "source": [
    "##### 将Wordvec训练好的embedding向量用csv格式储存"
   ]
  },
  {
   "cell_type": "code",
   "execution_count": 51,
   "metadata": {},
   "outputs": [],
   "source": [
    "data_txt = np.loadtxt('./item.txt')\n",
    "data_txtDF = pd.DataFrame(data_txt,columns= ['itemId']+[ f'Embedding_{i}' for i in range(50)])\n",
    "data_txtDF.to_csv('item_embedding_csv',index=False)"
   ]
  },
  {
   "cell_type": "code",
   "execution_count": 29,
   "metadata": {},
   "outputs": [],
   "source": [
    "item_embedding = pd.read_csv('./item_embedding_csv')"
   ]
  },
  {
   "cell_type": "code",
   "execution_count": 4,
   "metadata": {},
   "outputs": [
    {
     "data": {
      "text/html": [
       "<div>\n",
       "<style scoped>\n",
       "    .dataframe tbody tr th:only-of-type {\n",
       "        vertical-align: middle;\n",
       "    }\n",
       "\n",
       "    .dataframe tbody tr th {\n",
       "        vertical-align: top;\n",
       "    }\n",
       "\n",
       "    .dataframe thead th {\n",
       "        text-align: right;\n",
       "    }\n",
       "</style>\n",
       "<table border=\"1\" class=\"dataframe\">\n",
       "  <thead>\n",
       "    <tr style=\"text-align: right;\">\n",
       "      <th></th>\n",
       "      <th>itemId</th>\n",
       "      <th>Embedding_0</th>\n",
       "      <th>Embedding_1</th>\n",
       "      <th>Embedding_2</th>\n",
       "      <th>Embedding_3</th>\n",
       "      <th>Embedding_4</th>\n",
       "      <th>Embedding_5</th>\n",
       "      <th>Embedding_6</th>\n",
       "      <th>Embedding_7</th>\n",
       "      <th>Embedding_8</th>\n",
       "      <th>...</th>\n",
       "      <th>Embedding_40</th>\n",
       "      <th>Embedding_41</th>\n",
       "      <th>Embedding_42</th>\n",
       "      <th>Embedding_43</th>\n",
       "      <th>Embedding_44</th>\n",
       "      <th>Embedding_45</th>\n",
       "      <th>Embedding_46</th>\n",
       "      <th>Embedding_47</th>\n",
       "      <th>Embedding_48</th>\n",
       "      <th>Embedding_49</th>\n",
       "    </tr>\n",
       "  </thead>\n",
       "  <tbody>\n",
       "    <tr>\n",
       "      <th>0</th>\n",
       "      <td>NaN</td>\n",
       "      <td>-0.001072</td>\n",
       "      <td>0.000473</td>\n",
       "      <td>0.010207</td>\n",
       "      <td>0.018019</td>\n",
       "      <td>-0.018606</td>\n",
       "      <td>-0.014234</td>\n",
       "      <td>0.012918</td>\n",
       "      <td>0.017946</td>\n",
       "      <td>-0.010031</td>\n",
       "      <td>...</td>\n",
       "      <td>-0.019207</td>\n",
       "      <td>0.010015</td>\n",
       "      <td>-0.017519</td>\n",
       "      <td>-0.008784</td>\n",
       "      <td>-0.000070</td>\n",
       "      <td>-0.000592</td>\n",
       "      <td>-0.015322</td>\n",
       "      <td>0.019229</td>\n",
       "      <td>0.009964</td>\n",
       "      <td>0.018466</td>\n",
       "    </tr>\n",
       "    <tr>\n",
       "      <th>1</th>\n",
       "      <td>10099554.0</td>\n",
       "      <td>-0.287784</td>\n",
       "      <td>-4.716245</td>\n",
       "      <td>0.210488</td>\n",
       "      <td>-5.690922</td>\n",
       "      <td>-3.261221</td>\n",
       "      <td>2.821887</td>\n",
       "      <td>-6.503364</td>\n",
       "      <td>-0.596449</td>\n",
       "      <td>-1.991397</td>\n",
       "      <td>...</td>\n",
       "      <td>2.355053</td>\n",
       "      <td>4.622287</td>\n",
       "      <td>2.714019</td>\n",
       "      <td>0.301596</td>\n",
       "      <td>-0.374871</td>\n",
       "      <td>7.197029</td>\n",
       "      <td>0.149656</td>\n",
       "      <td>3.067329</td>\n",
       "      <td>-1.244174</td>\n",
       "      <td>9.874837</td>\n",
       "    </tr>\n",
       "    <tr>\n",
       "      <th>2</th>\n",
       "      <td>10085107.0</td>\n",
       "      <td>-5.990616</td>\n",
       "      <td>4.486032</td>\n",
       "      <td>1.748040</td>\n",
       "      <td>0.592468</td>\n",
       "      <td>3.132309</td>\n",
       "      <td>-1.635398</td>\n",
       "      <td>3.468003</td>\n",
       "      <td>3.767014</td>\n",
       "      <td>-3.580695</td>\n",
       "      <td>...</td>\n",
       "      <td>-5.682347</td>\n",
       "      <td>-5.869978</td>\n",
       "      <td>0.420320</td>\n",
       "      <td>-2.483540</td>\n",
       "      <td>1.964049</td>\n",
       "      <td>-4.782959</td>\n",
       "      <td>0.919976</td>\n",
       "      <td>-3.146383</td>\n",
       "      <td>0.455233</td>\n",
       "      <td>-8.672552</td>\n",
       "    </tr>\n",
       "    <tr>\n",
       "      <th>3</th>\n",
       "      <td>10089363.0</td>\n",
       "      <td>-0.059581</td>\n",
       "      <td>2.360711</td>\n",
       "      <td>-4.737878</td>\n",
       "      <td>2.268620</td>\n",
       "      <td>4.410136</td>\n",
       "      <td>4.738972</td>\n",
       "      <td>4.729690</td>\n",
       "      <td>2.870426</td>\n",
       "      <td>-1.788495</td>\n",
       "      <td>...</td>\n",
       "      <td>-9.694828</td>\n",
       "      <td>-6.637001</td>\n",
       "      <td>1.539428</td>\n",
       "      <td>-4.868769</td>\n",
       "      <td>-1.983912</td>\n",
       "      <td>-6.314855</td>\n",
       "      <td>4.631748</td>\n",
       "      <td>-2.638040</td>\n",
       "      <td>-1.109178</td>\n",
       "      <td>-7.818279</td>\n",
       "    </tr>\n",
       "    <tr>\n",
       "      <th>4</th>\n",
       "      <td>10097699.0</td>\n",
       "      <td>-0.152875</td>\n",
       "      <td>-1.138640</td>\n",
       "      <td>-2.968007</td>\n",
       "      <td>4.007520</td>\n",
       "      <td>9.905430</td>\n",
       "      <td>2.783760</td>\n",
       "      <td>4.534660</td>\n",
       "      <td>0.735650</td>\n",
       "      <td>0.804311</td>\n",
       "      <td>...</td>\n",
       "      <td>-1.125425</td>\n",
       "      <td>-11.210804</td>\n",
       "      <td>-4.569268</td>\n",
       "      <td>-1.992595</td>\n",
       "      <td>-1.283429</td>\n",
       "      <td>-8.627345</td>\n",
       "      <td>1.456349</td>\n",
       "      <td>-3.329998</td>\n",
       "      <td>2.244988</td>\n",
       "      <td>-2.023987</td>\n",
       "    </tr>\n",
       "  </tbody>\n",
       "</table>\n",
       "<p>5 rows × 51 columns</p>\n",
       "</div>"
      ],
      "text/plain": [
       "       itemId  Embedding_0  Embedding_1  Embedding_2  Embedding_3  \\\n",
       "0         NaN    -0.001072     0.000473     0.010207     0.018019   \n",
       "1  10099554.0    -0.287784    -4.716245     0.210488    -5.690922   \n",
       "2  10085107.0    -5.990616     4.486032     1.748040     0.592468   \n",
       "3  10089363.0    -0.059581     2.360711    -4.737878     2.268620   \n",
       "4  10097699.0    -0.152875    -1.138640    -2.968007     4.007520   \n",
       "\n",
       "   Embedding_4  Embedding_5  Embedding_6  Embedding_7  Embedding_8  ...  \\\n",
       "0    -0.018606    -0.014234     0.012918     0.017946    -0.010031  ...   \n",
       "1    -3.261221     2.821887    -6.503364    -0.596449    -1.991397  ...   \n",
       "2     3.132309    -1.635398     3.468003     3.767014    -3.580695  ...   \n",
       "3     4.410136     4.738972     4.729690     2.870426    -1.788495  ...   \n",
       "4     9.905430     2.783760     4.534660     0.735650     0.804311  ...   \n",
       "\n",
       "   Embedding_40  Embedding_41  Embedding_42  Embedding_43  Embedding_44  \\\n",
       "0     -0.019207      0.010015     -0.017519     -0.008784     -0.000070   \n",
       "1      2.355053      4.622287      2.714019      0.301596     -0.374871   \n",
       "2     -5.682347     -5.869978      0.420320     -2.483540      1.964049   \n",
       "3     -9.694828     -6.637001      1.539428     -4.868769     -1.983912   \n",
       "4     -1.125425    -11.210804     -4.569268     -1.992595     -1.283429   \n",
       "\n",
       "   Embedding_45  Embedding_46  Embedding_47  Embedding_48  Embedding_49  \n",
       "0     -0.000592     -0.015322      0.019229      0.009964      0.018466  \n",
       "1      7.197029      0.149656      3.067329     -1.244174      9.874837  \n",
       "2     -4.782959      0.919976     -3.146383      0.455233     -8.672552  \n",
       "3     -6.314855      4.631748     -2.638040     -1.109178     -7.818279  \n",
       "4     -8.627345      1.456349     -3.329998      2.244988     -2.023987  \n",
       "\n",
       "[5 rows x 51 columns]"
      ]
     },
     "execution_count": 4,
     "metadata": {},
     "output_type": "execute_result"
    }
   ],
   "source": [
    "item_embedding.head()"
   ]
  },
  {
   "cell_type": "markdown",
   "metadata": {},
   "source": [
    "#### fasis中向量库大小为（id个数，向量维度）"
   ]
  },
  {
   "cell_type": "code",
   "execution_count": 30,
   "metadata": {},
   "outputs": [],
   "source": [
    "item_embedding_array_list = []\n",
    "for x in item_embedding.values:\n",
    "    item_embedding_array_list.append(x[1:])\n",
    "item_embedding_array_list = np.array(item_embedding_array_list).astype(np.float32)\n"
   ]
  },
  {
   "cell_type": "code",
   "execution_count": 31,
   "metadata": {},
   "outputs": [],
   "source": [
    "import faiss\n",
    "dimension = 50\n",
    "#建立索引\n",
    "index = faiss.IndexFlatL2(dimension)\n",
    "#将向量加进faiss库中\n",
    "index.add(item_embedding_array_list)"
   ]
  },
  {
   "cell_type": "code",
   "execution_count": 33,
   "metadata": {},
   "outputs": [],
   "source": [
    "top_k = 5\n",
    "\n",
    "#D为距离，I为索引\n",
    "D,I = index.search(item_embedding_array_list[1:5],top_k)"
   ]
  }
 ],
 "metadata": {
  "kernelspec": {
   "display_name": "Python 3.8.10 ('base': conda)",
   "language": "python",
   "name": "python3"
  },
  "language_info": {
   "codemirror_mode": {
    "name": "ipython",
    "version": 3
   },
   "file_extension": ".py",
   "mimetype": "text/x-python",
   "name": "python",
   "nbconvert_exporter": "python",
   "pygments_lexer": "ipython3",
   "version": "3.8.10"
  },
  "orig_nbformat": 4,
  "vscode": {
   "interpreter": {
    "hash": "2f394aca7ca06fed1e6064aef884364492d7cdda3614a461e02e6407fc40ba69"
   }
  }
 },
 "nbformat": 4,
 "nbformat_minor": 2
}

{
 "cells": [
  {
   "cell_type": "code",
   "execution_count": 1,
   "metadata": {},
   "outputs": [],
   "source": [
    "import pandas as pd\n",
    "import tensorflow as tf"
   ]
  },
  {
   "cell_type": "code",
   "execution_count": 2,
   "metadata": {},
   "outputs": [],
   "source": [
    "data = pd.read_csv('/root/autodl-tmp/dataset/UserBehavior.csv',header=None)\n",
    "data = data.sample(frac=0.1)"
   ]
  },
  {
   "cell_type": "code",
   "execution_count": 3,
   "metadata": {},
   "outputs": [],
   "source": [
    "data.columns = ['userId','itemId','catId','userBehavior','logTs']"
   ]
  },
  {
   "cell_type": "code",
   "execution_count": 4,
   "metadata": {},
   "outputs": [],
   "source": [
    "data['label_fav'] = data['userBehavior'].map(lambda x : 1 if x == 'fav' else 0)\n",
    "data['label_buy'] = data['userBehavior'].map(lambda x : 1 if x == 'buy' else 0)\n",
    "data['label_cart'] = data['userBehavior'].map(lambda x : 1 if x == 'cart' else 0)"
   ]
  },
  {
   "cell_type": "code",
   "execution_count": 5,
   "metadata": {},
   "outputs": [],
   "source": [
    "# def object2int(x):\n",
    "#     if x == 'pv':\n",
    "#         x = 0\n",
    "#     elif(x == 'fav'):\n",
    "#         x = 1\n",
    "#     elif(x == 'buy'):\n",
    "#         x = 2 \n",
    "#     elif(x == 'cart'):\n",
    "#         x = 3  \n",
    "#     return x\n",
    "# data['userBehavior'] = data.userBehavior.apply(object2int)"
   ]
  },
  {
   "cell_type": "markdown",
   "metadata": {},
   "source": [
    "# Shared_bottem\n"
   ]
  },
  {
   "cell_type": "markdown",
   "metadata": {},
   "source": [
    "1. input"
   ]
  },
  {
   "cell_type": "code",
   "execution_count": 27,
   "metadata": {},
   "outputs": [],
   "source": [
    "inputs = {\n",
    "    # 'userId':tf.keras.layers.Input(name='userId', shape=(), dtype='int32'),\n",
    "    'itemId':tf.keras.layers.Input(name='itemId', shape=(), dtype='int32'),\n",
    "    # 'catId' :tf.keras.layers.Input(name='catId', shape=(), dtype='int32'),\n",
    "\n",
    "}    # 'userBehavior' :tf.keras.layers.Input(name='userBehavior', shape=(), dtype='int32'),"
   ]
  },
  {
   "cell_type": "code",
   "execution_count": 28,
   "metadata": {},
   "outputs": [
    {
     "data": {
      "text/plain": [
       "5163067"
      ]
     },
     "execution_count": 28,
     "metadata": {},
     "output_type": "execute_result"
    }
   ],
   "source": [
    "data.itemId.max()"
   ]
  },
  {
   "cell_type": "code",
   "execution_count": 29,
   "metadata": {},
   "outputs": [],
   "source": [
    "item_features = tf.keras.layers.Embedding(5163071, 10 )(inputs['itemId'])"
   ]
  },
  {
   "cell_type": "code",
   "execution_count": 30,
   "metadata": {},
   "outputs": [],
   "source": [
    "shared_bottom = tf.keras.layers.Dense(32,activation='relu',name='shared_bottom')(item_features)\n",
    "tower_fav = tf.keras.layers.Dense(16,activation='relu',name='tower_fav')(shared_bottom)\n",
    "tower_buy = tf.keras.layers.Dense(16,activation='relu',name='tower_buy')(shared_bottom)\n",
    "tower_cart = tf.keras.layers.Dense(16,activation='relu',name='tower_cart')(shared_bottom)\n"
   ]
  },
  {
   "cell_type": "code",
   "execution_count": 31,
   "metadata": {},
   "outputs": [],
   "source": [
    "output_fav = tf.keras.layers.Dense(1,activation='sigmoid',name='output_fav')(tower_fav)\n",
    "output_buy = tf.keras.layers.Dense(1,activation='sigmoid',name='output_buy')(tower_buy)\n",
    "output_cart = tf.keras.layers.Dense(1,activation='sigmoid',name='output_cart')(tower_cart)"
   ]
  },
  {
   "cell_type": "code",
   "execution_count": 32,
   "metadata": {},
   "outputs": [],
   "source": [
    "model = tf.keras.Model(inputs,outputs=[output_fav,output_buy,output_cart] )"
   ]
  },
  {
   "cell_type": "code",
   "execution_count": 35,
   "metadata": {},
   "outputs": [],
   "source": [
    "x_train = data.itemId.values"
   ]
  },
  {
   "cell_type": "code",
   "execution_count": 14,
   "metadata": {},
   "outputs": [],
   "source": [
    "label_fav = data.pop('label_fav')\n",
    "label_buy = data.pop('label_buy')\n",
    "label_cart = data.pop('label_cart')"
   ]
  },
  {
   "cell_type": "code",
   "execution_count": 41,
   "metadata": {},
   "outputs": [],
   "source": [
    "model.compile(optimizer='sgd',\n",
    "              loss={'output_fav': 'binary_crossentropy', \n",
    "              'output_buy': 'binary_crossentropy',\n",
    "              'output_cart': 'binary_crossentropy'},\n",
    "              loss_weights={'output_fav': 0.5, 'output_buy': 0.2,'output_cart':0.3})"
   ]
  },
  {
   "cell_type": "code",
   "execution_count": 43,
   "metadata": {},
   "outputs": [],
   "source": [
    "model.fit( x_train,\n",
    "          {'output_fav': label_fav , 'output_buy': label_buy,'output_cart':label_cart},\n",
    "          epochs=1, batch_size=16)"
   ]
  },
  {
   "cell_type": "code",
   "execution_count": null,
   "metadata": {},
   "outputs": [],
   "source": []
  }
 ],
 "metadata": {
  "kernelspec": {
   "display_name": "Python 3.8.10 ('base': conda)",
   "language": "python",
   "name": "python3"
  },
  "language_info": {
   "codemirror_mode": {
    "name": "ipython",
    "version": 3
   },
   "file_extension": ".py",
   "mimetype": "text/x-python",
   "name": "python",
   "nbconvert_exporter": "python",
   "pygments_lexer": "ipython3",
   "version": "3.8.10"
  },
  "orig_nbformat": 4,
  "vscode": {
   "interpreter": {
    "hash": "2f394aca7ca06fed1e6064aef884364492d7cdda3614a461e02e6407fc40ba69"
   }
  }
 },
 "nbformat": 4,
 "nbformat_minor": 2
}

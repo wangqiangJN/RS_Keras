{
 "cells": [
  {
   "cell_type": "code",
   "execution_count": 25,
   "metadata": {},
   "outputs": [],
   "source": [
    "import tensorflow as tf\n",
    "import numpy as np\n",
    "import pandas as pd"
   ]
  },
  {
   "cell_type": "code",
   "execution_count": 26,
   "metadata": {},
   "outputs": [],
   "source": [
    "train_data = pd.read_csv('/root/autodl-tmp/wq/RS_Keras/data/Sohu2022_data/rec_data/train-dataset.csv')\n",
    "test_data = pd.read_csv('/root/autodl-tmp/wq/RS_Keras/data/Sohu2022_data/rec_data/test-dataset.csv') "
   ]
  },
  {
   "cell_type": "code",
   "execution_count": 27,
   "metadata": {},
   "outputs": [],
   "source": [
    "dict_cols = [x for x in train_data.columns if x not in ['sampleId','label','pvId','userSeq','logTs',]]"
   ]
  },
  {
   "cell_type": "code",
   "execution_count": 28,
   "metadata": {},
   "outputs": [],
   "source": [
    "names = globals()"
   ]
  },
  {
   "cell_type": "markdown",
   "metadata": {},
   "source": [
    "## Step 1 对id类特征和类别特征进行映射"
   ]
  },
  {
   "cell_type": "markdown",
   "metadata": {},
   "source": [
    "####  逻辑：\n",
    "1.先对已有数据做映射\n",
    "2.添加新数据只需要改动映射表，即此时如果新来一个id就在最大值后开辟新空间加1"
   ]
  },
  {
   "cell_type": "markdown",
   "metadata": {},
   "source": [
    "##### 1.基础数据唯一值、字典映射、字典大小"
   ]
  },
  {
   "cell_type": "code",
   "execution_count": 29,
   "metadata": {},
   "outputs": [
    {
     "name": "stderr",
     "output_type": "stream",
     "text": [
      "100%|██████████| 8/8 [00:00<00:00, 19.43it/s]\n"
     ]
    }
   ],
   "source": [
    "from tqdm import tqdm\n",
    "for col in tqdm(dict_cols):\n",
    "    #基础数据\n",
    "    names[str(col)+'_values' ] = list(train_data[col].unique())\n",
    "    #基础映射表,维护\n",
    "    names[str(col)+'_dict' ] = {value:idx for idx,value in enumerate(names[str(col)+'_values' ])}\n",
    "    #字典大小\n",
    "    names[str(col)+'_dict_size'] = len(names[str(col)+'_dict' ])"
   ]
  },
  {
   "cell_type": "markdown",
   "metadata": {},
   "source": [
    "##### 2.在基础数据前提下增加新数据"
   ]
  },
  {
   "cell_type": "code",
   "execution_count": 31,
   "metadata": {},
   "outputs": [
    {
     "name": "stderr",
     "output_type": "stream",
     "text": [
      "100%|██████████| 1422218/1422218 [00:01<00:00, 1180019.29it/s]\n",
      "100%|██████████| 1422218/1422218 [00:01<00:00, 1160921.17it/s]\n",
      "100%|██████████| 1422218/1422218 [00:01<00:00, 1169650.85it/s]\n",
      "100%|██████████| 1422218/1422218 [00:01<00:00, 1158140.29it/s]\n",
      "100%|██████████| 1422218/1422218 [00:01<00:00, 1141731.46it/s]\n",
      "100%|██████████| 1422218/1422218 [00:01<00:00, 1146250.90it/s]\n",
      "100%|██████████| 1422218/1422218 [00:01<00:00, 1150413.00it/s]\n",
      "100%|██████████| 1422218/1422218 [00:01<00:00, 1175466.88it/s]\n",
      "100%|██████████| 8/8 [00:09<00:00,  1.23s/it]\n"
     ]
    }
   ],
   "source": [
    "for col in tqdm(dict_cols):\n",
    "    for value in tqdm(test_data[col].values):\n",
    "        if value in names[str(col)+'_dict' ]:\n",
    "            continue\n",
    "        else:\n",
    "            names[str(col)+'_dict_size']= names[str(col)+'_dict_size'] +1\n",
    "            names[str(col)+'_values' ].append(value)\n",
    "            names[str(col)+'_dict' ][value] = names[str(col)+'_dict_size']\n",
    "        "
   ]
  },
  {
   "cell_type": "code",
   "execution_count": 22,
   "metadata": {},
   "outputs": [],
   "source": [
    "## 数据有['suv','itemId','operator','browserType','deviceType','osType','province','city']的映射字典"
   ]
  },
  {
   "cell_type": "markdown",
   "metadata": {},
   "source": [
    "## Step 2 构建统计特征\n"
   ]
  },
  {
   "cell_type": "code",
   "execution_count": 77,
   "metadata": {},
   "outputs": [],
   "source": [
    "#找到热门item\n",
    "hot_item_value_counts = train_data.itemId.value_counts().sort_values(ascending=False).iloc[:100]\n",
    "hot_item = list(hot_item_value_counts.index)"
   ]
  },
  {
   "cell_type": "code",
   "execution_count": 87,
   "metadata": {},
   "outputs": [],
   "source": [
    "#找到活跃用户\n",
    "hot_suv_value_counts = train_data.suv.value_counts().sort_values(ascending=False).iloc[:100]\n",
    "hot_suv = list(hot_suv_value_counts.index)"
   ]
  },
  {
   "cell_type": "code",
   "execution_count": 79,
   "metadata": {},
   "outputs": [
    {
     "data": {
      "text/html": [
       "<div>\n",
       "<style scoped>\n",
       "    .dataframe tbody tr th:only-of-type {\n",
       "        vertical-align: middle;\n",
       "    }\n",
       "\n",
       "    .dataframe tbody tr th {\n",
       "        vertical-align: top;\n",
       "    }\n",
       "\n",
       "    .dataframe thead th {\n",
       "        text-align: right;\n",
       "    }\n",
       "</style>\n",
       "<table border=\"1\" class=\"dataframe\">\n",
       "  <thead>\n",
       "    <tr style=\"text-align: right;\">\n",
       "      <th></th>\n",
       "      <th>sampleId</th>\n",
       "      <th>label</th>\n",
       "      <th>pvId</th>\n",
       "      <th>suv</th>\n",
       "      <th>itemId</th>\n",
       "      <th>userSeq</th>\n",
       "      <th>logTs</th>\n",
       "      <th>operator</th>\n",
       "      <th>browserType</th>\n",
       "      <th>deviceType</th>\n",
       "      <th>osType</th>\n",
       "      <th>province</th>\n",
       "      <th>city</th>\n",
       "    </tr>\n",
       "  </thead>\n",
       "  <tbody>\n",
       "    <tr>\n",
       "      <th>0</th>\n",
       "      <td>1</td>\n",
       "      <td>0</td>\n",
       "      <td>1420332726637uyIZR2O</td>\n",
       "      <td>1581173072343wnwm3q</td>\n",
       "      <td>10092752</td>\n",
       "      <td>10094375:1640918979673;10084835:1640836934361;...</td>\n",
       "      <td>1641039890894</td>\n",
       "      <td>2203920</td>\n",
       "      <td>1583865</td>\n",
       "      <td>2326891</td>\n",
       "      <td>3585570</td>\n",
       "      <td>1518261</td>\n",
       "      <td>3058140</td>\n",
       "    </tr>\n",
       "    <tr>\n",
       "      <th>1</th>\n",
       "      <td>2</td>\n",
       "      <td>0</td>\n",
       "      <td>1420332726637uyIZR2O</td>\n",
       "      <td>1581173072343wnwm3q</td>\n",
       "      <td>10085565</td>\n",
       "      <td>10094375:1640918979673;10084835:1640836934361;...</td>\n",
       "      <td>1641039890894</td>\n",
       "      <td>2203920</td>\n",
       "      <td>1583865</td>\n",
       "      <td>2326891</td>\n",
       "      <td>3585570</td>\n",
       "      <td>1518261</td>\n",
       "      <td>3058140</td>\n",
       "    </tr>\n",
       "    <tr>\n",
       "      <th>2</th>\n",
       "      <td>3</td>\n",
       "      <td>0</td>\n",
       "      <td>1420332726637uyIZR2O</td>\n",
       "      <td>1581173072343wnwm3q</td>\n",
       "      <td>10105937</td>\n",
       "      <td>10094375:1640918979673;10084835:1640836934361;...</td>\n",
       "      <td>1641039890894</td>\n",
       "      <td>2203920</td>\n",
       "      <td>1583865</td>\n",
       "      <td>2326891</td>\n",
       "      <td>3585570</td>\n",
       "      <td>1518261</td>\n",
       "      <td>3058140</td>\n",
       "    </tr>\n",
       "    <tr>\n",
       "      <th>3</th>\n",
       "      <td>4</td>\n",
       "      <td>0</td>\n",
       "      <td>1420332726637uyIZR2O</td>\n",
       "      <td>1581173072343wnwm3q</td>\n",
       "      <td>10082274</td>\n",
       "      <td>10094375:1640918979673;10084835:1640836934361;...</td>\n",
       "      <td>1641039890894</td>\n",
       "      <td>2203920</td>\n",
       "      <td>1583865</td>\n",
       "      <td>2326891</td>\n",
       "      <td>3585570</td>\n",
       "      <td>1518261</td>\n",
       "      <td>3058140</td>\n",
       "    </tr>\n",
       "    <tr>\n",
       "      <th>4</th>\n",
       "      <td>5</td>\n",
       "      <td>0</td>\n",
       "      <td>1420332726637uyIZR2O</td>\n",
       "      <td>1581173072343wnwm3q</td>\n",
       "      <td>10083446</td>\n",
       "      <td>10094375:1640918979673;10084835:1640836934361;...</td>\n",
       "      <td>1641039890894</td>\n",
       "      <td>2203920</td>\n",
       "      <td>1583865</td>\n",
       "      <td>2326891</td>\n",
       "      <td>3585570</td>\n",
       "      <td>1518261</td>\n",
       "      <td>3058140</td>\n",
       "    </tr>\n",
       "  </tbody>\n",
       "</table>\n",
       "</div>"
      ],
      "text/plain": [
       "   sampleId  label                  pvId                  suv    itemId  \\\n",
       "0         1      0  1420332726637uyIZR2O  1581173072343wnwm3q  10092752   \n",
       "1         2      0  1420332726637uyIZR2O  1581173072343wnwm3q  10085565   \n",
       "2         3      0  1420332726637uyIZR2O  1581173072343wnwm3q  10105937   \n",
       "3         4      0  1420332726637uyIZR2O  1581173072343wnwm3q  10082274   \n",
       "4         5      0  1420332726637uyIZR2O  1581173072343wnwm3q  10083446   \n",
       "\n",
       "                                             userSeq          logTs  operator  \\\n",
       "0  10094375:1640918979673;10084835:1640836934361;...  1641039890894   2203920   \n",
       "1  10094375:1640918979673;10084835:1640836934361;...  1641039890894   2203920   \n",
       "2  10094375:1640918979673;10084835:1640836934361;...  1641039890894   2203920   \n",
       "3  10094375:1640918979673;10084835:1640836934361;...  1641039890894   2203920   \n",
       "4  10094375:1640918979673;10084835:1640836934361;...  1641039890894   2203920   \n",
       "\n",
       "   browserType  deviceType   osType  province     city  \n",
       "0      1583865     2326891  3585570   1518261  3058140  \n",
       "1      1583865     2326891  3585570   1518261  3058140  \n",
       "2      1583865     2326891  3585570   1518261  3058140  \n",
       "3      1583865     2326891  3585570   1518261  3058140  \n",
       "4      1583865     2326891  3585570   1518261  3058140  "
      ]
     },
     "execution_count": 79,
     "metadata": {},
     "output_type": "execute_result"
    }
   ],
   "source": [
    "train_data.head()"
   ]
  },
  {
   "cell_type": "code",
   "execution_count": null,
   "metadata": {},
   "outputs": [],
   "source": [
    "#计算用户点击率：要不要以时间刻度"
   ]
  }
 ],
 "metadata": {
  "kernelspec": {
   "display_name": "Python 3.8.10 ('base': conda)",
   "language": "python",
   "name": "python3"
  },
  "language_info": {
   "codemirror_mode": {
    "name": "ipython",
    "version": 3
   },
   "file_extension": ".py",
   "mimetype": "text/x-python",
   "name": "python",
   "nbconvert_exporter": "python",
   "pygments_lexer": "ipython3",
   "version": "3.8.10"
  },
  "orig_nbformat": 4,
  "vscode": {
   "interpreter": {
    "hash": "2f394aca7ca06fed1e6064aef884364492d7cdda3614a461e02e6407fc40ba69"
   }
  }
 },
 "nbformat": 4,
 "nbformat_minor": 2
}

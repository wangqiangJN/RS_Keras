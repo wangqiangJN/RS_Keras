{
 "cells": [
  {
   "cell_type": "code",
   "execution_count": 1,
   "metadata": {},
   "outputs": [],
   "source": [
    "import pandas as pd"
   ]
  },
  {
   "cell_type": "code",
   "execution_count": 2,
   "metadata": {},
   "outputs": [],
   "source": [
    "data = pd.read_csv('/root/autodl-tmp/wq/RS_Keras/data/Sohu2022_data/rec_data/test-dataset.csv')"
   ]
  },
  {
   "cell_type": "code",
   "execution_count": 3,
   "metadata": {},
   "outputs": [
    {
     "data": {
      "text/html": [
       "<div>\n",
       "<style scoped>\n",
       "    .dataframe tbody tr th:only-of-type {\n",
       "        vertical-align: middle;\n",
       "    }\n",
       "\n",
       "    .dataframe tbody tr th {\n",
       "        vertical-align: top;\n",
       "    }\n",
       "\n",
       "    .dataframe thead th {\n",
       "        text-align: right;\n",
       "    }\n",
       "</style>\n",
       "<table border=\"1\" class=\"dataframe\">\n",
       "  <thead>\n",
       "    <tr style=\"text-align: right;\">\n",
       "      <th></th>\n",
       "      <th>testSampleId</th>\n",
       "      <th>pvId</th>\n",
       "      <th>suv</th>\n",
       "      <th>itemId</th>\n",
       "      <th>userSeq</th>\n",
       "      <th>logTs</th>\n",
       "      <th>operator</th>\n",
       "      <th>browserType</th>\n",
       "      <th>deviceType</th>\n",
       "      <th>osType</th>\n",
       "      <th>province</th>\n",
       "      <th>city</th>\n",
       "    </tr>\n",
       "  </thead>\n",
       "  <tbody>\n",
       "    <tr>\n",
       "      <th>0</th>\n",
       "      <td>5000001</td>\n",
       "      <td>1640655422697H3zq4ze</td>\n",
       "      <td>16412563805927MMCH5</td>\n",
       "      <td>10113821</td>\n",
       "      <td>NaN</td>\n",
       "      <td>1641257054454</td>\n",
       "      <td>2224589</td>\n",
       "      <td>3619320</td>\n",
       "      <td>2326891</td>\n",
       "      <td>3585570</td>\n",
       "      <td>3826939</td>\n",
       "      <td>2414137</td>\n",
       "    </tr>\n",
       "    <tr>\n",
       "      <th>1</th>\n",
       "      <td>5000002</td>\n",
       "      <td>1640655422697H3zq4ze</td>\n",
       "      <td>16412563805927MMCH5</td>\n",
       "      <td>10123383</td>\n",
       "      <td>NaN</td>\n",
       "      <td>1641257039412</td>\n",
       "      <td>2224589</td>\n",
       "      <td>3619320</td>\n",
       "      <td>2326891</td>\n",
       "      <td>3585570</td>\n",
       "      <td>3826939</td>\n",
       "      <td>2414137</td>\n",
       "    </tr>\n",
       "    <tr>\n",
       "      <th>2</th>\n",
       "      <td>5000003</td>\n",
       "      <td>1640655422697H3zq4ze</td>\n",
       "      <td>16412563805927MMCH5</td>\n",
       "      <td>10113964</td>\n",
       "      <td>NaN</td>\n",
       "      <td>1641256862448</td>\n",
       "      <td>2224589</td>\n",
       "      <td>3619320</td>\n",
       "      <td>2326891</td>\n",
       "      <td>3585570</td>\n",
       "      <td>3826939</td>\n",
       "      <td>2414137</td>\n",
       "    </tr>\n",
       "    <tr>\n",
       "      <th>3</th>\n",
       "      <td>5000004</td>\n",
       "      <td>1640655422697H3zq4ze</td>\n",
       "      <td>16412563805927MMCH5</td>\n",
       "      <td>10124534</td>\n",
       "      <td>NaN</td>\n",
       "      <td>1641256863017</td>\n",
       "      <td>2224589</td>\n",
       "      <td>3619320</td>\n",
       "      <td>2326891</td>\n",
       "      <td>3585570</td>\n",
       "      <td>3826939</td>\n",
       "      <td>2414137</td>\n",
       "    </tr>\n",
       "    <tr>\n",
       "      <th>4</th>\n",
       "      <td>5000005</td>\n",
       "      <td>1640655422697H3zq4ze</td>\n",
       "      <td>16412563805927MMCH5</td>\n",
       "      <td>10107295</td>\n",
       "      <td>NaN</td>\n",
       "      <td>1641256818096</td>\n",
       "      <td>2224589</td>\n",
       "      <td>3619320</td>\n",
       "      <td>2326891</td>\n",
       "      <td>3585570</td>\n",
       "      <td>3826939</td>\n",
       "      <td>2414137</td>\n",
       "    </tr>\n",
       "  </tbody>\n",
       "</table>\n",
       "</div>"
      ],
      "text/plain": [
       "   testSampleId                  pvId                  suv    itemId userSeq  \\\n",
       "0       5000001  1640655422697H3zq4ze  16412563805927MMCH5  10113821     NaN   \n",
       "1       5000002  1640655422697H3zq4ze  16412563805927MMCH5  10123383     NaN   \n",
       "2       5000003  1640655422697H3zq4ze  16412563805927MMCH5  10113964     NaN   \n",
       "3       5000004  1640655422697H3zq4ze  16412563805927MMCH5  10124534     NaN   \n",
       "4       5000005  1640655422697H3zq4ze  16412563805927MMCH5  10107295     NaN   \n",
       "\n",
       "           logTs  operator  browserType  deviceType   osType  province  \\\n",
       "0  1641257054454   2224589      3619320     2326891  3585570   3826939   \n",
       "1  1641257039412   2224589      3619320     2326891  3585570   3826939   \n",
       "2  1641256862448   2224589      3619320     2326891  3585570   3826939   \n",
       "3  1641256863017   2224589      3619320     2326891  3585570   3826939   \n",
       "4  1641256818096   2224589      3619320     2326891  3585570   3826939   \n",
       "\n",
       "      city  \n",
       "0  2414137  \n",
       "1  2414137  \n",
       "2  2414137  \n",
       "3  2414137  \n",
       "4  2414137  "
      ]
     },
     "execution_count": 3,
     "metadata": {},
     "output_type": "execute_result"
    }
   ],
   "source": [
    "data.head()"
   ]
  },
  {
   "cell_type": "code",
   "execution_count": 3,
   "metadata": {},
   "outputs": [],
   "source": [
    "def split_item(one_data):\n",
    "    tmp_item_list = []\n",
    "    for one_item in str(one_data).split(\";\"):  \n",
    "        tmp_item_list.append(one_item.split(':')[0])\n",
    "    return tmp_item_list"
   ]
  },
  {
   "cell_type": "code",
   "execution_count": 5,
   "metadata": {},
   "outputs": [],
   "source": [
    "def split_time(one_data):\n",
    "    tmp_time_list = []\n",
    "    for one_item in str(one_data).split(\";\"):  \n",
    "        tmp_time_list.append(one_item.split(':')[-1])\n",
    "    return tmp_time_list  "
   ]
  },
  {
   "cell_type": "code",
   "execution_count": 4,
   "metadata": {},
   "outputs": [
    {
     "ename": "",
     "evalue": "",
     "output_type": "error",
     "traceback": [
      "\u001b[1;31mCanceled future for execute_request message before replies were done"
     ]
    },
    {
     "ename": "",
     "evalue": "",
     "output_type": "error",
     "traceback": [
      "\u001b[1;31mThe Kernel crashed while executing code in the the current cell or a previous cell. Please review the code in the cell(s) to identify a possible cause of the failure. Click <a href='https://aka.ms/vscodeJupyterKernelCrash'>here</a> for more info. View Jupyter <a href='command:jupyter.viewOutput'>log</a> for further details."
     ]
    }
   ],
   "source": [
    "data['item_list'] = data.userSeq.apply(split_item)"
   ]
  },
  {
   "cell_type": "code",
   "execution_count": 6,
   "metadata": {},
   "outputs": [],
   "source": [
    "data['time_list'] = data.userSeq.apply(split_time)"
   ]
  },
  {
   "cell_type": "code",
   "execution_count": null,
   "metadata": {},
   "outputs": [
    {
     "ename": "NameError",
     "evalue": "name 'data' is not defined",
     "output_type": "error",
     "traceback": [
      "\u001b[0;31m---------------------------------------------------------------------------\u001b[0m",
      "\u001b[0;31mNameError\u001b[0m                                 Traceback (most recent call last)",
      "\u001b[1;32m/root/autodl-tmp/wq/RS_Keras/keras_demo/Embedding_training.ipynb Cell 8\u001b[0m in \u001b[0;36m<cell line: 2>\u001b[0;34m()\u001b[0m\n\u001b[1;32m      <a href='vscode-notebook-cell://ssh-remote%2Bregion-3.seetacloud.com/root/autodl-tmp/wq/RS_Keras/keras_demo/Embedding_training.ipynb#X26sdnNjb2RlLXJlbW90ZQ%3D%3D?line=0'>1</a>\u001b[0m all_item_list \u001b[39m=\u001b[39m []\n\u001b[0;32m----> <a href='vscode-notebook-cell://ssh-remote%2Bregion-3.seetacloud.com/root/autodl-tmp/wq/RS_Keras/keras_demo/Embedding_training.ipynb#X26sdnNjb2RlLXJlbW90ZQ%3D%3D?line=1'>2</a>\u001b[0m \u001b[39mfor\u001b[39;00m item_list \u001b[39min\u001b[39;00m data\u001b[39m.\u001b[39mitem_list:\n\u001b[1;32m      <a href='vscode-notebook-cell://ssh-remote%2Bregion-3.seetacloud.com/root/autodl-tmp/wq/RS_Keras/keras_demo/Embedding_training.ipynb#X26sdnNjb2RlLXJlbW90ZQ%3D%3D?line=2'>3</a>\u001b[0m     all_item_list\u001b[39m.\u001b[39mappend(item_list)\n",
      "\u001b[0;31mNameError\u001b[0m: name 'data' is not defined"
     ]
    }
   ],
   "source": [
    "all_item_list = []\n",
    "for item_list in data['item_list']:\n",
    "    all_item_list.append(item_list)"
   ]
  },
  {
   "cell_type": "code",
   "execution_count": 2,
   "metadata": {},
   "outputs": [
    {
     "name": "stdout",
     "output_type": "stream",
     "text": [
      "[['human', 'interface', 'computer'], ['survey', 'user', 'computer', 'system', 'response', 'time'], ['eps', 'user', 'interface', 'system'], ['system', 'human', 'system', 'eps'], ['user', 'response', 'time'], ['trees'], ['graph', 'trees'], ['graph', 'minors', 'trees'], ['graph', 'minors', 'survey']]\n"
     ]
    }
   ],
   "source": [
    "from gensim.test.utils import common_texts\n",
    "from gensim.models import Word2Vec\n",
    "\n",
    "print(common_texts)\n",
    "train_model = Word2Vec(common_texts, vector_size=100, window=5, min_count=1, workers=4)\n",
    "train_model.save('./MyModel')\n",
    "\n",
    "train_model.wv.save_word2vec_format('./mymodel.txt', binary=False)\n"
   ]
  }
 ],
 "metadata": {
  "kernelspec": {
   "display_name": "Python 3.8.10 ('base': conda)",
   "language": "python",
   "name": "python3"
  },
  "language_info": {
   "codemirror_mode": {
    "name": "ipython",
    "version": 3
   },
   "file_extension": ".py",
   "mimetype": "text/x-python",
   "name": "python",
   "nbconvert_exporter": "python",
   "pygments_lexer": "ipython3",
   "version": "3.8.10"
  },
  "orig_nbformat": 4,
  "vscode": {
   "interpreter": {
    "hash": "2f394aca7ca06fed1e6064aef884364492d7cdda3614a461e02e6407fc40ba69"
   }
  }
 },
 "nbformat": 4,
 "nbformat_minor": 2
}

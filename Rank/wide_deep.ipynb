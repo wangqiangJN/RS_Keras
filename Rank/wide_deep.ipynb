{
 "cells": [
  {
   "cell_type": "code",
   "execution_count": 59,
   "metadata": {},
   "outputs": [
    {
     "data": {
      "text/plain": [
       "[PhysicalDevice(name='/physical_device:GPU:0', device_type='GPU')]"
      ]
     },
     "execution_count": 59,
     "metadata": {},
     "output_type": "execute_result"
    }
   ],
   "source": [
    "import tensorflow as tf\n",
    "import os\n",
    "import pandas as pd\n",
    "from tqdm import tqdm\n",
    "tf.config.list_physical_devices('GPU')"
   ]
  },
  {
   "cell_type": "code",
   "execution_count": 60,
   "metadata": {},
   "outputs": [],
   "source": [
    "data_root = \"/root/autodl-tmp/wq/RS_Keras/data/Sohu2022_data/rec_data\""
   ]
  },
  {
   "cell_type": "code",
   "execution_count": 65,
   "metadata": {},
   "outputs": [],
   "source": [
    "data = pd.read_csv(os.path.join(data_root,'train-dataset.csv'))\n",
    "# # test_data = pd.read_csv(os.path.join(data_root,'test-dataset.csv'))\n",
    "# # all_data = pd.concat([train_data,test_data])\n",
    "# all_data.to_csv(\"/root/autodl-tmp/wq/RS_Keras/data/Sohu2022_data/rec_data/all_data.csv\")"
   ]
  },
  {
   "cell_type": "code",
   "execution_count": 62,
   "metadata": {},
   "outputs": [],
   "source": [
    "from sklearn.preprocessing import MinMaxScaler,OneHotEncoder,LabelEncoder"
   ]
  },
  {
   "cell_type": "code",
   "execution_count": 66,
   "metadata": {},
   "outputs": [],
   "source": [
    "#object特征处理：suv\n",
    "enc = LabelEncoder()\n",
    "data['suv']  = enc.fit_transform(data.suv)"
   ]
  },
  {
   "cell_type": "code",
   "execution_count": 67,
   "metadata": {},
   "outputs": [],
   "source": [
    "#时间特征处理\n",
    "data['date'] = pd.to_datetime(data['logTs'], unit='ms') \n",
    "data['year'] = data['date'].dt.year\n",
    "data['month'] = data['date'].dt.month\n",
    "data['day'] = data['date'].dt.day"
   ]
  },
  {
   "cell_type": "code",
   "execution_count": 69,
   "metadata": {},
   "outputs": [],
   "source": [
    "data.to_csv(\"/root/autodl-tmp/wq/RS_Keras/data/Sohu2022_data/rec_data/data.csv\")"
   ]
  },
  {
   "cell_type": "code",
   "execution_count": 71,
   "metadata": {},
   "outputs": [],
   "source": [
    "##data\n",
    "data_root = \"/root/autodl-tmp/wq/RS_Keras/data/Sohu2022_data/rec_data\"\n",
    "data_ds = tf.data.experimental.make_csv_dataset(\n",
    "            os.path.join(data_root, \"data.csv\"),\n",
    "            batch_size=64,\n",
    "            label_name='label',\n",
    "            # na_value=\"0\",\n",
    "            num_epochs=1,\n",
    "            shuffle=True,\n",
    "            ignore_errors=True)\n",
    "#验证集\n",
    "val_ds = data_ds.take(1000)\n",
    "#训练集\n",
    "train_ds = data_ds.skip(1000)\n",
    "\n",
    "# #测试集\n",
    "# test_ds = tf.data.experimental.make_csv_dataset(\n",
    "#             os.path.join(data_root, \"test-dataset.csv\"),\n",
    "#             batch_size=64,\n",
    "#             # label_name='label',\n",
    "#             # na_value=\"0\",\n",
    "#             num_epochs=1,\n",
    "#             shuffle=True,\n",
    "#             ignore_errors=True)"
   ]
  },
  {
   "cell_type": "code",
   "execution_count": 72,
   "metadata": {},
   "outputs": [],
   "source": [
    "##config\n",
    "EMBEDDING_SIZE = 10\n",
    "HIDDEN_SIZE = 128"
   ]
  },
  {
   "cell_type": "markdown",
   "metadata": {},
   "source": [
    "# 1.制作inputs"
   ]
  },
  {
   "cell_type": "code",
   "execution_count": 73,
   "metadata": {},
   "outputs": [],
   "source": [
    "inputs = {\n",
    "    'suv' : tf.keras.layers.Input(name='suv', shape=(), dtype='int32'),\n",
    "    'operator' : tf.keras.layers.Input(name='operator', shape=(), dtype='int32'),\n",
    "    'browserType' : tf.keras.layers.Input(name='browserType', shape=(), dtype='int32'),\n",
    "    'deviceType' : tf.keras.layers.Input(name='deviceType', shape=(), dtype='int32'),\n",
    "    'osType' : tf.keras.layers.Input(name='osType', shape=(), dtype='int32'),\n",
    "    'province' : tf.keras.layers.Input(name='province', shape=(), dtype='int32'),\n",
    "    'itemId' : tf.keras.layers.Input(name='itemId', shape=(), dtype='int32'),\n",
    "    'city' : tf.keras.layers.Input(name='city', shape=(), dtype='int32'),\n",
    "}"
   ]
  },
  {
   "cell_type": "markdown",
   "metadata": {},
   "source": [
    "# 2.制作feature_columns"
   ]
  },
  {
   "cell_type": "code",
   "execution_count": 74,
   "metadata": {},
   "outputs": [],
   "source": [
    "feature_columns = {}\n",
    "feature_columns['suv'] = tf.feature_column.embedding_column(tf.feature_column.categorical_column_with_hash_bucket('suv',700000,tf.int64),EMBEDDING_SIZE)\n",
    "feature_columns['itemId'] = tf.feature_column.embedding_column(tf.feature_column.categorical_column_with_hash_bucket('itemId',6000,tf.int64),EMBEDDING_SIZE)\n",
    "feature_columns['operator'] = tf.feature_column.embedding_column(tf.feature_column.categorical_column_with_hash_bucket('operator',900,tf.int64),EMBEDDING_SIZE)\n",
    "feature_columns['browserType'] = tf.feature_column.embedding_column(tf.feature_column.categorical_column_with_hash_bucket('browserType',60,tf.int64) ,EMBEDDING_SIZE)\n",
    "feature_columns['deviceType'] = tf.feature_column.embedding_column(tf.feature_column.categorical_column_with_hash_bucket('deviceType',10,tf.int64) ,EMBEDDING_SIZE)\n",
    "feature_columns['osType'] = tf.feature_column.embedding_column(tf.feature_column.categorical_column_with_hash_bucket('osType',20,tf.int64) ,EMBEDDING_SIZE)\n",
    "feature_columns['province'] = tf.feature_column.embedding_column(tf.feature_column.categorical_column_with_hash_bucket('province',80,tf.int64) ,EMBEDDING_SIZE)\n",
    "feature_columns['city'] = tf.feature_column.embedding_column(tf.feature_column.categorical_column_with_hash_bucket('city',800,tf.int64) ,EMBEDDING_SIZE)"
   ]
  },
  {
   "cell_type": "code",
   "execution_count": 75,
   "metadata": {},
   "outputs": [
    {
     "data": {
      "text/plain": [
       "<KerasTensor: shape=(None, 10) dtype=float32 (created by layer 'dense_features_6')>"
      ]
     },
     "execution_count": 75,
     "metadata": {},
     "output_type": "execute_result"
    }
   ],
   "source": [
    "user_col = [feature_columns['suv']]\n",
    "user_features = tf.keras.layers.DenseFeatures(user_col)(inputs)\n",
    "user_features"
   ]
  },
  {
   "cell_type": "code",
   "execution_count": 76,
   "metadata": {},
   "outputs": [
    {
     "data": {
      "text/plain": [
       "<KerasTensor: shape=(None, 60) dtype=float32 (created by layer 'dense_features_7')>"
      ]
     },
     "execution_count": 76,
     "metadata": {},
     "output_type": "execute_result"
    }
   ],
   "source": [
    "context_col = [feature_columns['operator'], \n",
    "               feature_columns['browserType'],\n",
    "               feature_columns[ 'deviceType'], \n",
    "               feature_columns['osType'],\n",
    "               feature_columns['province'],\n",
    "               feature_columns['city']]\n",
    "context_features = tf.keras.layers.DenseFeatures(context_col)(inputs)\n",
    "context_features"
   ]
  },
  {
   "cell_type": "code",
   "execution_count": 77,
   "metadata": {},
   "outputs": [
    {
     "data": {
      "text/plain": [
       "<KerasTensor: shape=(None, 10) dtype=float32 (created by layer 'dense_features_8')>"
      ]
     },
     "execution_count": 77,
     "metadata": {},
     "output_type": "execute_result"
    }
   ],
   "source": [
    "item_col = [feature_columns['itemId']]\n",
    "item_features = tf.keras.layers.DenseFeatures(item_col)(inputs)\n",
    "item_features"
   ]
  },
  {
   "cell_type": "code",
   "execution_count": 78,
   "metadata": {},
   "outputs": [
    {
     "data": {
      "text/plain": [
       "<KerasTensor: shape=(None, 80) dtype=float32 (created by layer 'tf.concat_14')>"
      ]
     },
     "execution_count": 78,
     "metadata": {},
     "output_type": "execute_result"
    }
   ],
   "source": [
    "deep_features = tf.concat([user_features,item_features,context_features],axis=-1)\n",
    "deep_features"
   ]
  },
  {
   "cell_type": "code",
   "execution_count": 79,
   "metadata": {},
   "outputs": [
    {
     "data": {
      "text/plain": [
       "<KerasTensor: shape=(None, 80) dtype=float32 (created by layer 'tf.concat_15')>"
      ]
     },
     "execution_count": 79,
     "metadata": {},
     "output_type": "execute_result"
    }
   ],
   "source": [
    "wide_features = tf.concat([user_features,item_features,context_features],axis=-1)\n",
    "wide_features"
   ]
  },
  {
   "cell_type": "code",
   "execution_count": 80,
   "metadata": {},
   "outputs": [],
   "source": [
    "deep_outputs = tf.keras.layers.Dense(1024,activation='relu')(deep_features)\n",
    "deep_outputs = tf.keras.layers.Dense(512,activation='relu')(deep_outputs)\n",
    "deep_outputs = tf.keras.layers.Dense(256,activation='relu')(deep_outputs)"
   ]
  },
  {
   "cell_type": "code",
   "execution_count": 81,
   "metadata": {},
   "outputs": [],
   "source": [
    "wide_outputs = wide_features"
   ]
  },
  {
   "cell_type": "code",
   "execution_count": 82,
   "metadata": {},
   "outputs": [
    {
     "data": {
      "text/plain": [
       "<KerasTensor: shape=(None, 336) dtype=float32 (created by layer 'tf.concat_16')>"
      ]
     },
     "execution_count": 82,
     "metadata": {},
     "output_type": "execute_result"
    }
   ],
   "source": [
    "outputs = tf.concat([wide_outputs,deep_outputs],axis=-1)\n",
    "outputs"
   ]
  },
  {
   "cell_type": "code",
   "execution_count": 83,
   "metadata": {},
   "outputs": [],
   "source": [
    "outputs = tf.keras.layers.Dense(1,activation='sigmoid')(outputs)"
   ]
  },
  {
   "cell_type": "code",
   "execution_count": 84,
   "metadata": {},
   "outputs": [],
   "source": [
    "model = tf.keras.Model(inputs, outputs)"
   ]
  },
  {
   "cell_type": "code",
   "execution_count": 85,
   "metadata": {},
   "outputs": [],
   "source": [
    "METRICS = [\n",
    "      # tf.keras.metrics.TruePositives(name='tp'),\n",
    "      # tf.keras.metrics.FalsePositives(name='fp'),\n",
    "      # tf.keras.metrics.TrueNegatives(name='tn'),\n",
    "      # tf.keras.metrics.FalseNegatives(name='fn'), \n",
    "      tf.keras.metrics.BinaryAccuracy(name='accuracy'),\n",
    "      # tf.keras.metrics.Precision(name='precision'),\n",
    "      # tf.keras.metrics.Recall(name='recall'),\n",
    "      tf.keras.metrics.AUC(name='auc'),\n",
    "]"
   ]
  },
  {
   "cell_type": "code",
   "execution_count": 86,
   "metadata": {},
   "outputs": [
    {
     "name": "stderr",
     "output_type": "stream",
     "text": [
      "/root/miniconda3/lib/python3.8/site-packages/keras/engine/functional.py:566: UserWarning: Input dict contained keys ['', 'sampleId', 'pvId', 'userSeq', 'logTs', 'date', 'year', 'month', 'day'] which did not match any model input. They will be ignored by the model.\n",
      "  inputs = self._flatten_to_reference_inputs(inputs)\n",
      "2023-01-28 14:19:11.055460: I tensorflow/stream_executor/cuda/cuda_blas.cc:1786] TensorFloat-32 will be used for the matrix multiplication. This will only be logged once.\n"
     ]
    },
    {
     "name": "stdout",
     "output_type": "stream",
     "text": [
      "65154/65154 [==============================] - 872s 13ms/step - loss: 0.4853 - accuracy: 0.8074 - auc: 0.5613\n"
     ]
    }
   ],
   "source": [
    "model.compile(\n",
    "    loss='binary_crossentropy',\n",
    "    optimizer='sgd',\n",
    "    metrics=METRICS)\n",
    "\n",
    "#train\n",
    "history = model.fit(train_ds, epochs=1)"
   ]
  },
  {
   "cell_type": "code",
   "execution_count": 87,
   "metadata": {},
   "outputs": [
    {
     "name": "stdout",
     "output_type": "stream",
     "text": [
      "1000/1000 [==============================] - 12s 11ms/step - loss: 0.5266 - accuracy: 0.7877 - auc: 0.5080\n"
     ]
    }
   ],
   "source": [
    "val_loss, val_accuracy,val_auc = model.evaluate(val_ds)"
   ]
  }
 ],
 "metadata": {
  "kernelspec": {
   "display_name": "Python 3.8.10 ('base': conda)",
   "language": "python",
   "name": "python3"
  },
  "language_info": {
   "codemirror_mode": {
    "name": "ipython",
    "version": 3
   },
   "file_extension": ".py",
   "mimetype": "text/x-python",
   "name": "python",
   "nbconvert_exporter": "python",
   "pygments_lexer": "ipython3",
   "version": "3.8.10"
  },
  "orig_nbformat": 4,
  "vscode": {
   "interpreter": {
    "hash": "2f394aca7ca06fed1e6064aef884364492d7cdda3614a461e02e6407fc40ba69"
   }
  }
 },
 "nbformat": 4,
 "nbformat_minor": 2
}

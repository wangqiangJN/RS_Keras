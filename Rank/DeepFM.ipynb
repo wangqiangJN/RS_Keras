{
 "cells": [
  {
   "cell_type": "code",
   "execution_count": 1,
   "metadata": {},
   "outputs": [
    {
     "name": "stderr",
     "output_type": "stream",
     "text": [
      "2023-02-03 21:06:38.453677: I tensorflow/core/util/util.cc:169] oneDNN custom operations are on. You may see slightly different numerical results due to floating-point round-off errors from different computation orders. To turn them off, set the environment variable `TF_ENABLE_ONEDNN_OPTS=0`.\n"
     ]
    },
    {
     "data": {
      "text/plain": [
       "[PhysicalDevice(name='/physical_device:GPU:0', device_type='GPU')]"
      ]
     },
     "execution_count": 1,
     "metadata": {},
     "output_type": "execute_result"
    }
   ],
   "source": [
    "import tensorflow as tf\n",
    "from keras import backend as K\n",
    "import os\n",
    "import pandas as pd\n",
    "import numpy as np\n",
    "from tqdm import tqdm\n",
    "tf.config.list_physical_devices('GPU')"
   ]
  },
  {
   "cell_type": "markdown",
   "metadata": {},
   "source": [
    "Step 1 加载数据"
   ]
  },
  {
   "cell_type": "code",
   "execution_count": 2,
   "metadata": {},
   "outputs": [],
   "source": [
    "data = pd.read_csv('../data/Sohu2022_data/rec_data/train-dataset.csv')\n",
    "# test_data = pd.read_csv('../data/Sohu2022_data/rec_data/test-dataset.csv') "
   ]
  },
  {
   "cell_type": "markdown",
   "metadata": {},
   "source": [
    "Step 2 特征工程"
   ]
  },
  {
   "cell_type": "markdown",
   "metadata": {},
   "source": [
    "将类别列重新映射"
   ]
  },
  {
   "cell_type": "code",
   "execution_count": 3,
   "metadata": {},
   "outputs": [],
   "source": [
    "#需要做映射的列\n",
    "dict_cols = [x for x in data.columns if x not in ['sampleId','label','pvId','userSeq','logTs',]]"
   ]
  },
  {
   "cell_type": "code",
   "execution_count": 4,
   "metadata": {},
   "outputs": [],
   "source": [
    "names = globals()"
   ]
  },
  {
   "cell_type": "code",
   "execution_count": 5,
   "metadata": {},
   "outputs": [
    {
     "name": "stderr",
     "output_type": "stream",
     "text": [
      "100%|██████████| 8/8 [00:01<00:00,  6.53it/s]\n"
     ]
    }
   ],
   "source": [
    "from tqdm import tqdm\n",
    "for col in tqdm(dict_cols):\n",
    "    #基础数据\n",
    "    names[str(col)+'_values' ] = list(data[col].unique())\n",
    "    #基础映射表,维护\n",
    "    names[str(col)+'_dict' ] = {value:idx for idx,value in enumerate(names[str(col)+'_values' ])}\n",
    "    #字典大小\n",
    "    names[str(col)+'_dict_size'] = len(names[str(col)+'_dict' ])\n",
    "    #映射到data\n",
    "    data[f\"{col}_idx\"] = data[col].map(names[str(col)+'_dict' ])\n",
    "\n",
    "#如果需要添加新数据扩大映射表，参考特征工程.ipynb"
   ]
  },
  {
   "cell_type": "markdown",
   "metadata": {},
   "source": [
    "对logTs进行处理"
   ]
  },
  {
   "cell_type": "code",
   "execution_count": 6,
   "metadata": {},
   "outputs": [],
   "source": [
    "data['date'] = pd.to_datetime(data['logTs'], unit='ms') \n",
    "data['year'] = data['date'].dt.year\n",
    "data['month'] = data['date'].dt.month\n",
    "data['day'] = data['date'].dt.day"
   ]
  },
  {
   "cell_type": "markdown",
   "metadata": {},
   "source": [
    "超参数"
   ]
  },
  {
   "cell_type": "code",
   "execution_count": 7,
   "metadata": {},
   "outputs": [],
   "source": [
    "EMBEEDING_SIZE = 64"
   ]
  },
  {
   "cell_type": "markdown",
   "metadata": {},
   "source": [
    "Step 3 制作inputs"
   ]
  },
  {
   "cell_type": "code",
   "execution_count": 8,
   "metadata": {},
   "outputs": [],
   "source": [
    "inputs = {\n",
    "    'suv' : tf.keras.layers.Input(name='suv', shape=(), dtype='int32'),\n",
    "    'operator' : tf.keras.layers.Input(name='operator', shape=(), dtype='int32'),\n",
    "    'browserType' : tf.keras.layers.Input(name='browserType', shape=(), dtype='int32'),\n",
    "    'deviceType' : tf.keras.layers.Input(name='deviceType', shape=(), dtype='int32'),\n",
    "    'osType' : tf.keras.layers.Input(name='osType', shape=(), dtype='int32'),\n",
    "    'province' : tf.keras.layers.Input(name='province', shape=(), dtype='int32'),\n",
    "    'itemId' : tf.keras.layers.Input(name='itemId', shape=(), dtype='int32'),\n",
    "    'city' : tf.keras.layers.Input(name='city', shape=(), dtype='int32'),\n",
    "}"
   ]
  },
  {
   "cell_type": "markdown",
   "metadata": {},
   "source": [
    "Step 4 搭建模型"
   ]
  },
  {
   "cell_type": "code",
   "execution_count": 9,
   "metadata": {},
   "outputs": [
    {
     "name": "stderr",
     "output_type": "stream",
     "text": [
      "2023-02-03 21:06:55.977779: I tensorflow/core/platform/cpu_feature_guard.cc:193] This TensorFlow binary is optimized with oneAPI Deep Neural Network Library (oneDNN) to use the following CPU instructions in performance-critical operations:  AVX2 AVX512F AVX512_VNNI FMA\n",
      "To enable them in other operations, rebuild TensorFlow with the appropriate compiler flags.\n",
      "2023-02-03 21:06:56.643890: I tensorflow/core/common_runtime/gpu/gpu_device.cc:1532] Created device /job:localhost/replica:0/task:0/device:GPU:0 with 22350 MB memory:  -> device: 0, name: NVIDIA RTX A5000, pci bus id: 0000:56:00.0, compute capability: 8.6\n"
     ]
    }
   ],
   "source": [
    "itemId_embedding = tf.keras.layers.Embedding(itemId_dict_size+1, EMBEEDING_SIZE )(inputs['itemId'])\n",
    "suv_embedding = tf.keras.layers.Embedding(suv_dict_size+1, EMBEEDING_SIZE )(inputs['suv'])\n",
    "operator_embedding = tf.keras.layers.Embedding(operator_dict_size+1, EMBEEDING_SIZE )(inputs['operator'])\n",
    "browserType_embedding = tf.keras.layers.Embedding(browserType_dict_size+1, EMBEEDING_SIZE )(inputs['browserType'])\n",
    "deviceType_embedding = tf.keras.layers.Embedding(deviceType_dict_size+1, EMBEEDING_SIZE )(inputs['deviceType'])\n",
    "osType_embedding = tf.keras.layers.Embedding(osType_dict_size+1, EMBEEDING_SIZE )(inputs['osType'])\n",
    "province_embedding = tf.keras.layers.Embedding(province_dict_size+1, EMBEEDING_SIZE )(inputs['province'])\n",
    "city_embedding = tf.keras.layers.Embedding(city_dict_size+1, EMBEEDING_SIZE )(inputs['city'])"
   ]
  },
  {
   "cell_type": "code",
   "execution_count": 10,
   "metadata": {},
   "outputs": [],
   "source": [
    "all_features = tf.keras.layers.Concatenate(axis=-1)([itemId_embedding,suv_embedding,\n",
    "                                            operator_embedding,browserType_embedding,\n",
    "                                            deviceType_embedding,osType_embedding,\n",
    "                                            province_embedding,city_embedding])"
   ]
  },
  {
   "cell_type": "code",
   "execution_count": 11,
   "metadata": {},
   "outputs": [],
   "source": [
    "class cross_layer(tf.keras.layers.Layer):\n",
    "    def __init__(self,input_dim,output_dim) -> None:\n",
    "        super().__init__()\n",
    "        self.input_dim = input_dim\n",
    "        self.output_dim = output_dim\n",
    "    def build(self,input_shape):\n",
    "        self.kernel = self.add_weight(name='kernel', \n",
    "                                      shape=(self.input_dim, self.output_dim),\n",
    "                                      initializer='uniform',\n",
    "                                      trainable=True)\n",
    "        super(cross_layer, self).build(input_shape)\n",
    "    def get_config(self):\n",
    "        config = super().get_config()\n",
    "        config.update({\n",
    "            \"input_dim\": self.input_dim,\n",
    "            \"output_dim\": self.output_dim,\n",
    "        })\n",
    "        return config\n",
    "        \n",
    "    def call(self,x):\n",
    "        formula_left = K.pow(K.dot(x,self.kernel),2)\n",
    "        formula_right = K.dot(K.pow(x,2),K.pow(self.kernel,2))\n",
    "        return  0.5*(formula_left-formula_right)"
   ]
  },
  {
   "cell_type": "code",
   "execution_count": 12,
   "metadata": {},
   "outputs": [],
   "source": [
    "#fm\n",
    "linear = tf.keras.layers.Dense(1,activation='relu')(all_features)\n",
    "cross = cross_layer(input_dim=512,output_dim=64)(all_features)\n",
    "fm_output = tf.keras.layers.Concatenate(axis=-1)([linear,cross])"
   ]
  },
  {
   "cell_type": "code",
   "execution_count": 13,
   "metadata": {},
   "outputs": [],
   "source": [
    "#deep\n",
    "deep = tf.keras.layers.Dense(256,activation='relu')(all_features)\n",
    "deep_output = tf.keras.layers.Dense(64,activation='relu')(deep)"
   ]
  },
  {
   "cell_type": "code",
   "execution_count": 14,
   "metadata": {},
   "outputs": [],
   "source": [
    "outputs = tf.keras.layers.Concatenate(axis=-1)([fm_output,deep_output])\n",
    "outputs = tf.keras.layers.Dense(1,activation='sigmoid')(outputs)"
   ]
  },
  {
   "cell_type": "code",
   "execution_count": 15,
   "metadata": {},
   "outputs": [],
   "source": [
    "model = tf.keras.Model(inputs,outputs)"
   ]
  },
  {
   "cell_type": "code",
   "execution_count": 16,
   "metadata": {},
   "outputs": [],
   "source": [
    "model.compile(\n",
    "    loss='binary_crossentropy',\n",
    "    optimizer='sgd',\n",
    "    metrics=tf.keras.metrics.AUC(name='auc'))"
   ]
  },
  {
   "cell_type": "markdown",
   "metadata": {},
   "source": [
    "Step 5 划分数据集：训练集：验证集：测试集 = 6：2：2"
   ]
  },
  {
   "cell_type": "code",
   "execution_count": 17,
   "metadata": {},
   "outputs": [],
   "source": [
    "#训练集：验证集:测试集 = 6：2：2\n",
    "import random\n",
    "train_len = int(len(data)*0.6)\n",
    "val_len = int(len(data)*0.2)\n",
    "idx = list(data.index)\n",
    "random.shuffle(idx)\n",
    "#训练集\n",
    "df_train = data.iloc[idx[:train_len]]\n",
    "#验证集\n",
    "df_val = data.iloc[idx[train_len:train_len+val_len]]\n",
    "#测试集\n",
    "df_test = data.iloc[idx[train_len+val_len:]]"
   ]
  },
  {
   "cell_type": "code",
   "execution_count": 18,
   "metadata": {},
   "outputs": [],
   "source": [
    "x_train = [df_train['suv_idx'],\n",
    "           df_train['operator_idx'],\n",
    "           df_train['browserType_idx'],\n",
    "           df_train['deviceType_idx'],\n",
    "           df_train['osType_idx'],\n",
    "           df_train['province_idx'],\n",
    "           df_train['itemId_idx'],\n",
    "           df_train['city_idx']]\n",
    "y_train = df_train['label']\n",
    "\n",
    "x_val = [df_val['suv_idx'],\n",
    "         df_val['operator_idx'],\n",
    "         df_val['browserType_idx'],\n",
    "         df_val['deviceType_idx'],\n",
    "         df_val['osType_idx'],\n",
    "         df_val['province_idx'],\n",
    "         df_val['itemId_idx'],\n",
    "         df_val['city_idx']]\n",
    "y_val = df_val['label']\n",
    "\n",
    "x_test = [df_test['suv_idx'],\n",
    "          df_test['operator_idx'],\n",
    "          df_test['browserType_idx'],\n",
    "          df_test['deviceType_idx'],\n",
    "          df_test['osType_idx'],\n",
    "          df_test['province_idx'],\n",
    "          df_test['itemId_idx'],\n",
    "          df_test['city_idx']]\n",
    "y_test = df_test['label']"
   ]
  },
  {
   "cell_type": "code",
   "execution_count": 19,
   "metadata": {},
   "outputs": [
    {
     "name": "stdout",
     "output_type": "stream",
     "text": [
      "   15/79384 [..............................] - ETA: 10:43 - loss: 0.6778 - auc: 0.4890 "
     ]
    },
    {
     "name": "stderr",
     "output_type": "stream",
     "text": [
      "2023-02-03 21:07:08.300193: I tensorflow/stream_executor/cuda/cuda_blas.cc:1786] TensorFloat-32 will be used for the matrix multiplication. This will only be logged once.\n"
     ]
    },
    {
     "name": "stdout",
     "output_type": "stream",
     "text": [
      "79384/79384 [==============================] - 1208s 15ms/step - loss: 0.4895 - auc: 0.5259 - val_loss: 0.4898 - val_auc: 0.5322\n"
     ]
    }
   ],
   "source": [
    "from datetime import datetime\n",
    "TIMESTAMP = \"{0:%Y-%m-%dT%H-%M-%S/}\".format(datetime.now())\n",
    "tensorboard_callback = tf.keras.callbacks.TensorBoard(log_dir=\"../logs/Deep_FM\"+TIMESTAMP)\n",
    "checkpoint_callback = tf.keras.callbacks.ModelCheckpoint('../save/DeepFM/{epoch:02d}-{val_loss:.2f}.hdf5',monitor='val_loss')              \n",
    "history = model.fit(x_train,y_train,epochs=1,batch_size=32,\n",
    "                    validation_data=[x_val,y_val],\n",
    "                    callbacks=[tensorboard_callback,checkpoint_callback,\n",
    "                    ])"
   ]
  },
  {
   "cell_type": "code",
   "execution_count": 20,
   "metadata": {},
   "outputs": [
    {
     "name": "stdout",
     "output_type": "stream",
     "text": [
      "26462/26462 [==============================] - 273s 10ms/step - loss: 0.4897 - auc: 0.5297\n"
     ]
    },
    {
     "data": {
      "text/plain": [
       "[0.4896877706050873, 0.5296633839607239]"
      ]
     },
     "execution_count": 20,
     "metadata": {},
     "output_type": "execute_result"
    }
   ],
   "source": [
    "model.evaluate(x_test, y_test, batch_size=32)"
   ]
  }
 ],
 "metadata": {
  "kernelspec": {
   "display_name": "Python 3.8.10 ('base': conda)",
   "language": "python",
   "name": "python3"
  },
  "language_info": {
   "codemirror_mode": {
    "name": "ipython",
    "version": 3
   },
   "file_extension": ".py",
   "mimetype": "text/x-python",
   "name": "python",
   "nbconvert_exporter": "python",
   "pygments_lexer": "ipython3",
   "version": "3.8.10"
  },
  "orig_nbformat": 4,
  "vscode": {
   "interpreter": {
    "hash": "2f394aca7ca06fed1e6064aef884364492d7cdda3614a461e02e6407fc40ba69"
   }
  }
 },
 "nbformat": 4,
 "nbformat_minor": 2
}

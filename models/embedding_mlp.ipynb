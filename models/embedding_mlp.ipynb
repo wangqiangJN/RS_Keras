{
 "cells": [
  {
   "cell_type": "code",
   "execution_count": 1,
   "metadata": {},
   "outputs": [
    {
     "name": "stderr",
     "output_type": "stream",
     "text": [
      "2023-01-25 22:59:27.082732: I tensorflow/core/util/util.cc:169] oneDNN custom operations are on. You may see slightly different numerical results due to floating-point round-off errors from different computation orders. To turn them off, set the environment variable `TF_ENABLE_ONEDNN_OPTS=0`.\n"
     ]
    }
   ],
   "source": [
    "import tensorflow as tf\n",
    "import os\n",
    "import pandas as pd\n",
    "from tqdm import tqdm\n",
    "# import pdb\n",
    "# pdb.set_trace()\n"
   ]
  },
  {
   "cell_type": "code",
   "execution_count": 2,
   "metadata": {},
   "outputs": [
    {
     "data": {
      "text/plain": [
       "[PhysicalDevice(name='/physical_device:GPU:0', device_type='GPU')]"
      ]
     },
     "execution_count": 2,
     "metadata": {},
     "output_type": "execute_result"
    }
   ],
   "source": [
    "import tensorflow as tf\n",
    "tf.config.list_physical_devices('GPU')"
   ]
  },
  {
   "cell_type": "code",
   "execution_count": 3,
   "metadata": {},
   "outputs": [
    {
     "name": "stderr",
     "output_type": "stream",
     "text": [
      "2023-01-25 22:59:32.429784: I tensorflow/core/platform/cpu_feature_guard.cc:193] This TensorFlow binary is optimized with oneAPI Deep Neural Network Library (oneDNN) to use the following CPU instructions in performance-critical operations:  AVX2 AVX512F AVX512_VNNI FMA\n",
      "To enable them in other operations, rebuild TensorFlow with the appropriate compiler flags.\n",
      "2023-01-25 22:59:33.005664: I tensorflow/core/common_runtime/gpu/gpu_device.cc:1532] Created device /job:localhost/replica:0/task:0/device:GPU:0 with 22350 MB memory:  -> device: 0, name: NVIDIA RTX A5000, pci bus id: 0000:52:00.0, compute capability: 8.6\n"
     ]
    }
   ],
   "source": [
    "##data\n",
    "train_data_root = \"/root/autodl-tmp/wq/RS_Keras/data/Sohu2022_data/rec_data\"\n",
    "data_ds = tf.data.experimental.make_csv_dataset(\n",
    "            os.path.join(train_data_root, \"train-dataset.csv\"),\n",
    "            batch_size=64,\n",
    "            label_name='label',\n",
    "            # na_value=\"0\",\n",
    "            num_epochs=1,\n",
    "            shuffle=True,\n",
    "            ignore_errors=True)\n",
    "#验证集\n",
    "val_ds = data_ds.take(1000)\n",
    "#训练集1\n",
    "train_ds = data_ds.skip(1000)\n",
    "\n",
    "#测试集\n",
    "test_ds = tf.data.experimental.make_csv_dataset(\n",
    "            os.path.join(train_data_root, \"test-dataset.csv\"),\n",
    "            batch_size=64,\n",
    "            # label_name='label',\n",
    "            # na_value=\"0\",\n",
    "            num_epochs=1,\n",
    "            shuffle=True,\n",
    "            ignore_errors=True)\n",
    "\n"
   ]
  },
  {
   "cell_type": "code",
   "execution_count": 4,
   "metadata": {},
   "outputs": [],
   "source": [
    "data_path = '/root/autodl-tmp/wq/RS_Keras/data/Sohu2022_data/rec_data'\n",
    "data = pd.read_csv(os.path.join(data_path,'train-dataset.csv'))\n",
    "test_data = pd.read_csv(os.path.join(data_path,'test-dataset.csv'))"
   ]
  },
  {
   "cell_type": "code",
   "execution_count": 5,
   "metadata": {},
   "outputs": [],
   "source": [
    "all_data = pd.concat([data,test_data])"
   ]
  },
  {
   "cell_type": "code",
   "execution_count": null,
   "metadata": {},
   "outputs": [],
   "source": [
    "#热门用户\n",
    "#热门商品"
   ]
  },
  {
   "cell_type": "markdown",
   "metadata": {},
   "source": [
    "## \n"
   ]
  },
  {
   "cell_type": "code",
   "execution_count": 6,
   "metadata": {},
   "outputs": [],
   "source": [
    "from sklearn.preprocessing import MinMaxScaler,OneHotEncoder,LabelEncoder"
   ]
  },
  {
   "cell_type": "code",
   "execution_count": 7,
   "metadata": {},
   "outputs": [],
   "source": [
    "#object特征处理：suv\n",
    "enc = LabelEncoder()\n",
    "all_data['suv']  = enc.fit_transform(all_data.suv)"
   ]
  },
  {
   "cell_type": "code",
   "execution_count": 8,
   "metadata": {},
   "outputs": [],
   "source": [
    "#时间特征处理\n",
    "all_data['date'] = pd.to_datetime(all_data['logTs'], unit='ms') \n",
    "all_data['year'] = all_data['date'].dt.year\n",
    "all_data['month'] = all_data['date'].dt.month\n",
    "all_data['day'] = all_data['date'].dt.day"
   ]
  },
  {
   "cell_type": "code",
   "execution_count": 9,
   "metadata": {},
   "outputs": [
    {
     "data": {
      "text/plain": [
       "sampleId               float64\n",
       "label                  float64\n",
       "pvId                    object\n",
       "suv                      int64\n",
       "itemId                   int64\n",
       "userSeq                 object\n",
       "logTs                    int64\n",
       "operator                 int64\n",
       "browserType              int64\n",
       "deviceType               int64\n",
       "osType                   int64\n",
       "province                 int64\n",
       "city                     int64\n",
       "testSampleId           float64\n",
       "date            datetime64[ns]\n",
       "year                     int64\n",
       "month                    int64\n",
       "day                      int64\n",
       "dtype: object"
      ]
     },
     "execution_count": 9,
     "metadata": {},
     "output_type": "execute_result"
    }
   ],
   "source": [
    "all_data.dtypes"
   ]
  },
  {
   "cell_type": "code",
   "execution_count": 11,
   "metadata": {},
   "outputs": [],
   "source": [
    "##疑问如果测试集新来一个item再embedding里面没有怎么办？"
   ]
  },
  {
   "cell_type": "code",
   "execution_count": 12,
   "metadata": {},
   "outputs": [],
   "source": [
    "#数据处理\n"
   ]
  },
  {
   "cell_type": "code",
   "execution_count": 10,
   "metadata": {},
   "outputs": [],
   "source": [
    "##config\n",
    "EMBEDDING_SIZE = 10\n",
    "HIDDEN_SIZE = 128"
   ]
  },
  {
   "cell_type": "markdown",
   "metadata": {},
   "source": [
    "# 1.制作inputs"
   ]
  },
  {
   "cell_type": "code",
   "execution_count": 11,
   "metadata": {},
   "outputs": [],
   "source": [
    "inputs = {\n",
    "    'suv' : tf.keras.layers.Input(name='suv', shape=(), dtype='int32'),\n",
    "    'operator' : tf.keras.layers.Input(name='operator', shape=(), dtype='int32'),\n",
    "    'browserType' : tf.keras.layers.Input(name='browserType', shape=(), dtype='int32'),\n",
    "    'deviceType' : tf.keras.layers.Input(name='deviceType', shape=(), dtype='int32'),\n",
    "    'osType' : tf.keras.layers.Input(name='osType', shape=(), dtype='int32'),\n",
    "    'province' : tf.keras.layers.Input(name='province', shape=(), dtype='int32'),\n",
    "    'itemId' : tf.keras.layers.Input(name='itemId', shape=(), dtype='int32'),\n",
    "    'city' : tf.keras.layers.Input(name='city', shape=(), dtype='int32'),\n",
    "    \n",
    "}\n"
   ]
  },
  {
   "cell_type": "code",
   "execution_count": 12,
   "metadata": {},
   "outputs": [
    {
     "data": {
      "text/plain": [
       "{'suv': <KerasTensor: shape=(None,) dtype=int32 (created by layer 'suv')>,\n",
       " 'operator': <KerasTensor: shape=(None,) dtype=int32 (created by layer 'operator')>,\n",
       " 'browserType': <KerasTensor: shape=(None,) dtype=int32 (created by layer 'browserType')>,\n",
       " 'deviceType': <KerasTensor: shape=(None,) dtype=int32 (created by layer 'deviceType')>,\n",
       " 'osType': <KerasTensor: shape=(None,) dtype=int32 (created by layer 'osType')>,\n",
       " 'province': <KerasTensor: shape=(None,) dtype=int32 (created by layer 'province')>,\n",
       " 'itemId': <KerasTensor: shape=(None,) dtype=int32 (created by layer 'itemId')>,\n",
       " 'city': <KerasTensor: shape=(None,) dtype=int32 (created by layer 'city')>}"
      ]
     },
     "execution_count": 12,
     "metadata": {},
     "output_type": "execute_result"
    }
   ],
   "source": [
    "inputs"
   ]
  },
  {
   "cell_type": "markdown",
   "metadata": {},
   "source": [
    "# 2.制作feature_columns"
   ]
  },
  {
   "cell_type": "code",
   "execution_count": 13,
   "metadata": {},
   "outputs": [
    {
     "data": {
      "text/plain": [
       "Index(['sampleId', 'label', 'pvId', 'suv', 'itemId', 'userSeq', 'logTs',\n",
       "       'operator', 'browserType', 'deviceType', 'osType', 'province', 'city'],\n",
       "      dtype='object')"
      ]
     },
     "execution_count": 13,
     "metadata": {},
     "output_type": "execute_result"
    }
   ],
   "source": [
    "data.columns"
   ]
  },
  {
   "cell_type": "code",
   "execution_count": 25,
   "metadata": {},
   "outputs": [
    {
     "data": {
      "text/html": [
       "<div>\n",
       "<style scoped>\n",
       "    .dataframe tbody tr th:only-of-type {\n",
       "        vertical-align: middle;\n",
       "    }\n",
       "\n",
       "    .dataframe tbody tr th {\n",
       "        vertical-align: top;\n",
       "    }\n",
       "\n",
       "    .dataframe thead th {\n",
       "        text-align: right;\n",
       "    }\n",
       "</style>\n",
       "<table border=\"1\" class=\"dataframe\">\n",
       "  <thead>\n",
       "    <tr style=\"text-align: right;\">\n",
       "      <th></th>\n",
       "      <th>sampleId</th>\n",
       "      <th>label</th>\n",
       "      <th>pvId</th>\n",
       "      <th>suv</th>\n",
       "      <th>itemId</th>\n",
       "      <th>userSeq</th>\n",
       "      <th>logTs</th>\n",
       "      <th>operator</th>\n",
       "      <th>browserType</th>\n",
       "      <th>deviceType</th>\n",
       "      <th>osType</th>\n",
       "      <th>province</th>\n",
       "      <th>city</th>\n",
       "      <th>testSampleId</th>\n",
       "      <th>date</th>\n",
       "      <th>year</th>\n",
       "      <th>month</th>\n",
       "      <th>day</th>\n",
       "    </tr>\n",
       "  </thead>\n",
       "  <tbody>\n",
       "    <tr>\n",
       "      <th>0</th>\n",
       "      <td>1.0</td>\n",
       "      <td>0.0</td>\n",
       "      <td>1420332726637uyIZR2O</td>\n",
       "      <td>14518</td>\n",
       "      <td>10092752</td>\n",
       "      <td>10094375:1640918979673;10084835:1640836934361;...</td>\n",
       "      <td>1641039890894</td>\n",
       "      <td>2203920</td>\n",
       "      <td>1583865</td>\n",
       "      <td>2326891</td>\n",
       "      <td>3585570</td>\n",
       "      <td>1518261</td>\n",
       "      <td>3058140</td>\n",
       "      <td>NaN</td>\n",
       "      <td>2022-01-01 12:24:50.894</td>\n",
       "      <td>2022</td>\n",
       "      <td>1</td>\n",
       "      <td>1</td>\n",
       "    </tr>\n",
       "    <tr>\n",
       "      <th>1</th>\n",
       "      <td>2.0</td>\n",
       "      <td>0.0</td>\n",
       "      <td>1420332726637uyIZR2O</td>\n",
       "      <td>14518</td>\n",
       "      <td>10085565</td>\n",
       "      <td>10094375:1640918979673;10084835:1640836934361;...</td>\n",
       "      <td>1641039890894</td>\n",
       "      <td>2203920</td>\n",
       "      <td>1583865</td>\n",
       "      <td>2326891</td>\n",
       "      <td>3585570</td>\n",
       "      <td>1518261</td>\n",
       "      <td>3058140</td>\n",
       "      <td>NaN</td>\n",
       "      <td>2022-01-01 12:24:50.894</td>\n",
       "      <td>2022</td>\n",
       "      <td>1</td>\n",
       "      <td>1</td>\n",
       "    </tr>\n",
       "    <tr>\n",
       "      <th>2</th>\n",
       "      <td>3.0</td>\n",
       "      <td>0.0</td>\n",
       "      <td>1420332726637uyIZR2O</td>\n",
       "      <td>14518</td>\n",
       "      <td>10105937</td>\n",
       "      <td>10094375:1640918979673;10084835:1640836934361;...</td>\n",
       "      <td>1641039890894</td>\n",
       "      <td>2203920</td>\n",
       "      <td>1583865</td>\n",
       "      <td>2326891</td>\n",
       "      <td>3585570</td>\n",
       "      <td>1518261</td>\n",
       "      <td>3058140</td>\n",
       "      <td>NaN</td>\n",
       "      <td>2022-01-01 12:24:50.894</td>\n",
       "      <td>2022</td>\n",
       "      <td>1</td>\n",
       "      <td>1</td>\n",
       "    </tr>\n",
       "    <tr>\n",
       "      <th>3</th>\n",
       "      <td>4.0</td>\n",
       "      <td>0.0</td>\n",
       "      <td>1420332726637uyIZR2O</td>\n",
       "      <td>14518</td>\n",
       "      <td>10082274</td>\n",
       "      <td>10094375:1640918979673;10084835:1640836934361;...</td>\n",
       "      <td>1641039890894</td>\n",
       "      <td>2203920</td>\n",
       "      <td>1583865</td>\n",
       "      <td>2326891</td>\n",
       "      <td>3585570</td>\n",
       "      <td>1518261</td>\n",
       "      <td>3058140</td>\n",
       "      <td>NaN</td>\n",
       "      <td>2022-01-01 12:24:50.894</td>\n",
       "      <td>2022</td>\n",
       "      <td>1</td>\n",
       "      <td>1</td>\n",
       "    </tr>\n",
       "    <tr>\n",
       "      <th>4</th>\n",
       "      <td>5.0</td>\n",
       "      <td>0.0</td>\n",
       "      <td>1420332726637uyIZR2O</td>\n",
       "      <td>14518</td>\n",
       "      <td>10083446</td>\n",
       "      <td>10094375:1640918979673;10084835:1640836934361;...</td>\n",
       "      <td>1641039890894</td>\n",
       "      <td>2203920</td>\n",
       "      <td>1583865</td>\n",
       "      <td>2326891</td>\n",
       "      <td>3585570</td>\n",
       "      <td>1518261</td>\n",
       "      <td>3058140</td>\n",
       "      <td>NaN</td>\n",
       "      <td>2022-01-01 12:24:50.894</td>\n",
       "      <td>2022</td>\n",
       "      <td>1</td>\n",
       "      <td>1</td>\n",
       "    </tr>\n",
       "  </tbody>\n",
       "</table>\n",
       "</div>"
      ],
      "text/plain": [
       "   sampleId  label                  pvId    suv    itemId  \\\n",
       "0       1.0    0.0  1420332726637uyIZR2O  14518  10092752   \n",
       "1       2.0    0.0  1420332726637uyIZR2O  14518  10085565   \n",
       "2       3.0    0.0  1420332726637uyIZR2O  14518  10105937   \n",
       "3       4.0    0.0  1420332726637uyIZR2O  14518  10082274   \n",
       "4       5.0    0.0  1420332726637uyIZR2O  14518  10083446   \n",
       "\n",
       "                                             userSeq          logTs  operator  \\\n",
       "0  10094375:1640918979673;10084835:1640836934361;...  1641039890894   2203920   \n",
       "1  10094375:1640918979673;10084835:1640836934361;...  1641039890894   2203920   \n",
       "2  10094375:1640918979673;10084835:1640836934361;...  1641039890894   2203920   \n",
       "3  10094375:1640918979673;10084835:1640836934361;...  1641039890894   2203920   \n",
       "4  10094375:1640918979673;10084835:1640836934361;...  1641039890894   2203920   \n",
       "\n",
       "   browserType  deviceType   osType  province     city  testSampleId  \\\n",
       "0      1583865     2326891  3585570   1518261  3058140           NaN   \n",
       "1      1583865     2326891  3585570   1518261  3058140           NaN   \n",
       "2      1583865     2326891  3585570   1518261  3058140           NaN   \n",
       "3      1583865     2326891  3585570   1518261  3058140           NaN   \n",
       "4      1583865     2326891  3585570   1518261  3058140           NaN   \n",
       "\n",
       "                     date  year  month  day  \n",
       "0 2022-01-01 12:24:50.894  2022      1    1  \n",
       "1 2022-01-01 12:24:50.894  2022      1    1  \n",
       "2 2022-01-01 12:24:50.894  2022      1    1  \n",
       "3 2022-01-01 12:24:50.894  2022      1    1  \n",
       "4 2022-01-01 12:24:50.894  2022      1    1  "
      ]
     },
     "execution_count": 25,
     "metadata": {},
     "output_type": "execute_result"
    }
   ],
   "source": [
    "all_data.head()"
   ]
  },
  {
   "cell_type": "code",
   "execution_count": 29,
   "metadata": {},
   "outputs": [
    {
     "data": {
      "text/plain": [
       "354976"
      ]
     },
     "execution_count": 29,
     "metadata": {},
     "output_type": "execute_result"
    }
   ],
   "source": [
    "all_data.suv.nunique()"
   ]
  },
  {
   "cell_type": "markdown",
   "metadata": {},
   "source": [
    "## 对于city和浏览器类型，其实他们本质上就是字符串，统计他们的nunique就可以代表hash_bucket_nums\n",
    "## 而对于suv和itemId、统计他们的nunique\n",
    "logTs转化为天做embedding"
   ]
  },
  {
   "cell_type": "code",
   "execution_count": 30,
   "metadata": {},
   "outputs": [],
   "source": [
    "feature_columns = {}\n",
    "feature_columns['suv'] = tf.feature_column.embedding_column(tf.feature_column.categorical_column_with_hash_bucket('suv',700000,tf.int64,default_value=-1),EMBEDDING_SIZE)\n",
    "feature_columns['itemId'] = tf.feature_column.embedding_column(tf.feature_column.categorical_column_with_hash_bucket('itemId',6000,tf.int64),EMBEDDING_SIZE)\n",
    "feature_columns['operator'] = tf.feature_column.embedding_column(tf.feature_column.categorical_column_with_hash_bucket('operator',900,tf.int64),EMBEDDING_SIZE)\n",
    "feature_columns['browserType'] = tf.feature_column.embedding_column(tf.feature_column.categorical_column_with_hash_bucket('browserType',60,tf.int64) ,EMBEDDING_SIZE)\n",
    "feature_columns['deviceType'] = tf.feature_column.embedding_column(tf.feature_column.categorical_column_with_hash_bucket('deviceType',10,tf.int64) ,EMBEDDING_SIZE)\n",
    "feature_columns['osType'] = tf.feature_column.embedding_column(tf.feature_column.categorical_column_with_hash_bucket('osType',20,tf.int64) ,EMBEDDING_SIZE)\n",
    "feature_columns['province'] = tf.feature_column.embedding_column(tf.feature_column.categorical_column_with_hash_bucket('province',80,tf.int64) ,EMBEDDING_SIZE)\n",
    "feature_columns['city'] = tf.feature_column.embedding_column(tf.feature_column.categorical_column_with_hash_bucket('city',800,tf.int64) ,EMBEDDING_SIZE)"
   ]
  },
  {
   "cell_type": "code",
   "execution_count": 31,
   "metadata": {},
   "outputs": [
    {
     "data": {
      "text/plain": [
       "{'suv': EmbeddingColumn(categorical_column=HashedCategoricalColumn(key='suv', hash_bucket_size=700000, dtype=tf.int64), dimension=10, combiner='mean', initializer=<tensorflow.python.ops.init_ops.TruncatedNormal object at 0x7fa3f9a252b0>, ckpt_to_load_from=None, tensor_name_in_ckpt=None, max_norm=None, trainable=True, use_safe_embedding_lookup=True),\n",
       " 'itemId': EmbeddingColumn(categorical_column=HashedCategoricalColumn(key='itemId', hash_bucket_size=6000, dtype=tf.int64), dimension=10, combiner='mean', initializer=<tensorflow.python.ops.init_ops.TruncatedNormal object at 0x7fa3f9a25310>, ckpt_to_load_from=None, tensor_name_in_ckpt=None, max_norm=None, trainable=True, use_safe_embedding_lookup=True),\n",
       " 'operator': EmbeddingColumn(categorical_column=HashedCategoricalColumn(key='operator', hash_bucket_size=900, dtype=tf.int64), dimension=10, combiner='mean', initializer=<tensorflow.python.ops.init_ops.TruncatedNormal object at 0x7fa3f9a252e0>, ckpt_to_load_from=None, tensor_name_in_ckpt=None, max_norm=None, trainable=True, use_safe_embedding_lookup=True),\n",
       " 'browserType': EmbeddingColumn(categorical_column=HashedCategoricalColumn(key='browserType', hash_bucket_size=60, dtype=tf.int64), dimension=10, combiner='mean', initializer=<tensorflow.python.ops.init_ops.TruncatedNormal object at 0x7fa3f9a253a0>, ckpt_to_load_from=None, tensor_name_in_ckpt=None, max_norm=None, trainable=True, use_safe_embedding_lookup=True),\n",
       " 'deviceType': EmbeddingColumn(categorical_column=HashedCategoricalColumn(key='deviceType', hash_bucket_size=10, dtype=tf.int64), dimension=10, combiner='mean', initializer=<tensorflow.python.ops.init_ops.TruncatedNormal object at 0x7fa3f9a25430>, ckpt_to_load_from=None, tensor_name_in_ckpt=None, max_norm=None, trainable=True, use_safe_embedding_lookup=True),\n",
       " 'osType': EmbeddingColumn(categorical_column=HashedCategoricalColumn(key='osType', hash_bucket_size=20, dtype=tf.int64), dimension=10, combiner='mean', initializer=<tensorflow.python.ops.init_ops.TruncatedNormal object at 0x7fa3f9a25490>, ckpt_to_load_from=None, tensor_name_in_ckpt=None, max_norm=None, trainable=True, use_safe_embedding_lookup=True),\n",
       " 'province': EmbeddingColumn(categorical_column=HashedCategoricalColumn(key='province', hash_bucket_size=80, dtype=tf.int64), dimension=10, combiner='mean', initializer=<tensorflow.python.ops.init_ops.TruncatedNormal object at 0x7fa3f9a254f0>, ckpt_to_load_from=None, tensor_name_in_ckpt=None, max_norm=None, trainable=True, use_safe_embedding_lookup=True),\n",
       " 'city': EmbeddingColumn(categorical_column=HashedCategoricalColumn(key='city', hash_bucket_size=800, dtype=tf.int64), dimension=10, combiner='mean', initializer=<tensorflow.python.ops.init_ops.TruncatedNormal object at 0x7fa3f9a25550>, ckpt_to_load_from=None, tensor_name_in_ckpt=None, max_norm=None, trainable=True, use_safe_embedding_lookup=True)}"
      ]
     },
     "execution_count": 31,
     "metadata": {},
     "output_type": "execute_result"
    }
   ],
   "source": [
    "feature_columns"
   ]
  },
  {
   "cell_type": "code",
   "execution_count": 32,
   "metadata": {},
   "outputs": [],
   "source": [
    "user_col = [feature_columns['suv']]\n",
    "user_features = tf.keras.layers.DenseFeatures(user_col)(inputs)"
   ]
  },
  {
   "cell_type": "code",
   "execution_count": 33,
   "metadata": {},
   "outputs": [
    {
     "data": {
      "text/plain": [
       "<KerasTensor: shape=(None, 10) dtype=float32 (created by layer 'dense_features')>"
      ]
     },
     "execution_count": 33,
     "metadata": {},
     "output_type": "execute_result"
    }
   ],
   "source": [
    "user_features"
   ]
  },
  {
   "cell_type": "code",
   "execution_count": 34,
   "metadata": {},
   "outputs": [],
   "source": [
    "context_col = [feature_columns['operator'], \n",
    "               feature_columns['browserType'],\n",
    "               feature_columns[ 'deviceType'], \n",
    "               feature_columns['osType'],\n",
    "               feature_columns['province'],\n",
    "               feature_columns['city']]\n",
    "context_features = tf.keras.layers.DenseFeatures(context_col)(inputs)"
   ]
  },
  {
   "cell_type": "code",
   "execution_count": 35,
   "metadata": {},
   "outputs": [
    {
     "data": {
      "text/plain": [
       "<KerasTensor: shape=(None, 60) dtype=float32 (created by layer 'dense_features_1')>"
      ]
     },
     "execution_count": 35,
     "metadata": {},
     "output_type": "execute_result"
    }
   ],
   "source": [
    "context_features"
   ]
  },
  {
   "cell_type": "code",
   "execution_count": 36,
   "metadata": {},
   "outputs": [],
   "source": [
    "item_col = [feature_columns['itemId']]\n",
    "item_features = tf.keras.layers.DenseFeatures(item_col)(inputs)"
   ]
  },
  {
   "cell_type": "code",
   "execution_count": 37,
   "metadata": {},
   "outputs": [
    {
     "data": {
      "text/plain": [
       "<KerasTensor: shape=(None, 10) dtype=float32 (created by layer 'dense_features_2')>"
      ]
     },
     "execution_count": 37,
     "metadata": {},
     "output_type": "execute_result"
    }
   ],
   "source": [
    "item_features"
   ]
  },
  {
   "cell_type": "code",
   "execution_count": 38,
   "metadata": {},
   "outputs": [],
   "source": [
    "all_features = tf.concat([item_features,context_features],axis=-1)"
   ]
  },
  {
   "cell_type": "code",
   "execution_count": 39,
   "metadata": {},
   "outputs": [
    {
     "data": {
      "text/plain": [
       "<KerasTensor: shape=(None, 70) dtype=float32 (created by layer 'tf.concat')>"
      ]
     },
     "execution_count": 39,
     "metadata": {},
     "output_type": "execute_result"
    }
   ],
   "source": [
    "all_features"
   ]
  },
  {
   "cell_type": "code",
   "execution_count": 40,
   "metadata": {},
   "outputs": [],
   "source": [
    "#model\n",
    "outputs = tf.keras.layers.Dense(1024,activation='relu')(all_features)\n",
    "outputs = tf.keras.layers.Dense(256,activation='relu')(outputs)\n",
    "outputs = tf.keras.layers.Dense(1,activation='sigmoid')(outputs)\n",
    "model = tf.keras.Model(inputs, outputs)"
   ]
  },
  {
   "cell_type": "code",
   "execution_count": 41,
   "metadata": {},
   "outputs": [],
   "source": [
    "METRICS = [\n",
    "      # tf.keras.metrics.TruePositives(name='tp'),\n",
    "      # tf.keras.metrics.FalsePositives(name='fp'),\n",
    "      # tf.keras.metrics.TrueNegatives(name='tn'),\n",
    "      # tf.keras.metrics.FalseNegatives(name='fn'), \n",
    "      tf.keras.metrics.BinaryAccuracy(name='accuracy'),\n",
    "      # tf.keras.metrics.Precision(name='precision'),\n",
    "      # tf.keras.metrics.Recall(name='recall'),\n",
    "      tf.keras.metrics.AUC(name='auc'),\n",
    "]"
   ]
  },
  {
   "cell_type": "code",
   "execution_count": 42,
   "metadata": {},
   "outputs": [
    {
     "name": "stderr",
     "output_type": "stream",
     "text": [
      "/root/miniconda3/lib/python3.8/site-packages/keras/engine/functional.py:566: UserWarning: Input dict contained keys ['sampleId', 'pvId', 'userSeq', 'logTs'] which did not match any model input. They will be ignored by the model.\n",
      "  inputs = self._flatten_to_reference_inputs(inputs)\n"
     ]
    },
    {
     "name": "stdout",
     "output_type": "stream",
     "text": [
      "     11/Unknown - 5s 12ms/step - loss: 0.7145 - accuracy: 0.3224 - auc: 0.5048"
     ]
    },
    {
     "name": "stderr",
     "output_type": "stream",
     "text": [
      "2023-01-25 23:10:23.468104: I tensorflow/stream_executor/cuda/cuda_blas.cc:1786] TensorFloat-32 will be used for the matrix multiplication. This will only be logged once.\n"
     ]
    },
    {
     "name": "stdout",
     "output_type": "stream",
     "text": [
      "65154/65154 [==============================] - 765s 12ms/step - loss: 0.4847 - accuracy: 0.8074 - auc: 0.5636\n"
     ]
    }
   ],
   "source": [
    "model.compile(\n",
    "    loss='binary_crossentropy',\n",
    "    optimizer='sgd',\n",
    "    metrics=METRICS)\n",
    "\n",
    "#train\n",
    "history = model.fit(train_ds, epochs=1)"
   ]
  },
  {
   "cell_type": "code",
   "execution_count": 43,
   "metadata": {},
   "outputs": [
    {
     "name": "stdout",
     "output_type": "stream",
     "text": [
      "1000/1000 [==============================] - 10s 9ms/step - loss: 0.5287 - accuracy: 0.7877 - auc: 0.5115\n"
     ]
    }
   ],
   "source": [
    "test_loss, test_accuracy,test_auc = model.evaluate(val_ds)"
   ]
  },
  {
   "cell_type": "code",
   "execution_count": 44,
   "metadata": {},
   "outputs": [
    {
     "name": "stderr",
     "output_type": "stream",
     "text": [
      "/root/miniconda3/lib/python3.8/site-packages/keras/engine/functional.py:566: UserWarning: Input dict contained keys ['testSampleId', 'pvId', 'userSeq', 'logTs'] which did not match any model input. They will be ignored by the model.\n",
      "  inputs = self._flatten_to_reference_inputs(inputs)\n"
     ]
    },
    {
     "name": "stdout",
     "output_type": "stream",
     "text": [
      "22223/22223 [==============================] - 180s 8ms/step\n"
     ]
    }
   ],
   "source": [
    "y_pred = model.predict(test_ds,batch_size = 1)\n"
   ]
  },
  {
   "cell_type": "code",
   "execution_count": 49,
   "metadata": {},
   "outputs": [
    {
     "data": {
      "text/plain": [
       "array([[0.14771816],\n",
       "       [0.24361049],\n",
       "       [0.153635  ],\n",
       "       ...,\n",
       "       [0.17153673],\n",
       "       [0.18775031],\n",
       "       [0.13141042]], dtype=float32)"
      ]
     },
     "execution_count": 49,
     "metadata": {},
     "output_type": "execute_result"
    }
   ],
   "source": [
    "y_pred"
   ]
  }
 ],
 "metadata": {
  "kernelspec": {
   "display_name": "Python 3.8.10 ('base': conda)",
   "language": "python",
   "name": "python3"
  },
  "language_info": {
   "codemirror_mode": {
    "name": "ipython",
    "version": 3
   },
   "file_extension": ".py",
   "mimetype": "text/x-python",
   "name": "python",
   "nbconvert_exporter": "python",
   "pygments_lexer": "ipython3",
   "version": "3.8.10"
  },
  "vscode": {
   "interpreter": {
    "hash": "2f394aca7ca06fed1e6064aef884364492d7cdda3614a461e02e6407fc40ba69"
   }
  }
 },
 "nbformat": 4,
 "nbformat_minor": 4
}

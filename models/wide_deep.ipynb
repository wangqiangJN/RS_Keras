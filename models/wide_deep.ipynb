{
 "cells": [
  {
   "cell_type": "code",
   "execution_count": 3,
   "metadata": {},
   "outputs": [],
   "source": [
    "import tensorflow as tf\n",
    "import os\n",
    "import pandas as pd\n",
    "from tqdm import tqdm\n"
   ]
  },
  {
   "cell_type": "code",
   "execution_count": 4,
   "metadata": {},
   "outputs": [
    {
     "data": {
      "text/plain": [
       "[PhysicalDevice(name='/physical_device:GPU:0', device_type='GPU')]"
      ]
     },
     "execution_count": 4,
     "metadata": {},
     "output_type": "execute_result"
    }
   ],
   "source": [
    "import tensorflow as tf\n",
    "tf.config.list_physical_devices('GPU')"
   ]
  },
  {
   "cell_type": "code",
   "execution_count": 5,
   "metadata": {},
   "outputs": [
    {
     "name": "stderr",
     "output_type": "stream",
     "text": [
      "2023-01-15 17:01:10.158554: I tensorflow/core/platform/cpu_feature_guard.cc:193] This TensorFlow binary is optimized with oneAPI Deep Neural Network Library (oneDNN) to use the following CPU instructions in performance-critical operations:  AVX2 FMA\n",
      "To enable them in other operations, rebuild TensorFlow with the appropriate compiler flags.\n",
      "2023-01-15 17:01:10.668482: I tensorflow/core/common_runtime/gpu/gpu_device.cc:1532] Created device /job:localhost/replica:0/task:0/device:GPU:0 with 22310 MB memory:  -> device: 0, name: NVIDIA GeForce RTX 3090, pci bus id: 0000:a1:00.0, compute capability: 8.6\n"
     ]
    }
   ],
   "source": [
    "##data\n",
    "train_data_root = \"/root/autodl-tmp/wq/RS_Keras/data/Sohu2022_data/rec_data\"\n",
    "data_ds = tf.data.experimental.make_csv_dataset(\n",
    "            os.path.join(train_data_root, \"train-dataset.csv\"),\n",
    "            batch_size=64,\n",
    "            label_name='label',\n",
    "            # na_value=\"0\",\n",
    "            num_epochs=1,\n",
    "            shuffle=True,\n",
    "            ignore_errors=True)\n",
    "val_ds = data_ds.take(1000)\n",
    "train_ds = data_ds.skip(1000)\n",
    "\n"
   ]
  },
  {
   "cell_type": "code",
   "execution_count": 6,
   "metadata": {},
   "outputs": [],
   "source": [
    "data_path = '/root/autodl-tmp/wq/RS_Keras/data/Sohu2022_data/rec_data'\n",
    "data = pd.read_csv(os.path.join(data_path,'train-dataset.csv'))"
   ]
  },
  {
   "cell_type": "code",
   "execution_count": 7,
   "metadata": {},
   "outputs": [
    {
     "data": {
      "text/html": [
       "<div>\n",
       "<style scoped>\n",
       "    .dataframe tbody tr th:only-of-type {\n",
       "        vertical-align: middle;\n",
       "    }\n",
       "\n",
       "    .dataframe tbody tr th {\n",
       "        vertical-align: top;\n",
       "    }\n",
       "\n",
       "    .dataframe thead th {\n",
       "        text-align: right;\n",
       "    }\n",
       "</style>\n",
       "<table border=\"1\" class=\"dataframe\">\n",
       "  <thead>\n",
       "    <tr style=\"text-align: right;\">\n",
       "      <th></th>\n",
       "      <th>sampleId</th>\n",
       "      <th>label</th>\n",
       "      <th>pvId</th>\n",
       "      <th>suv</th>\n",
       "      <th>itemId</th>\n",
       "      <th>userSeq</th>\n",
       "      <th>logTs</th>\n",
       "      <th>operator</th>\n",
       "      <th>browserType</th>\n",
       "      <th>deviceType</th>\n",
       "      <th>osType</th>\n",
       "      <th>province</th>\n",
       "      <th>city</th>\n",
       "    </tr>\n",
       "  </thead>\n",
       "  <tbody>\n",
       "    <tr>\n",
       "      <th>0</th>\n",
       "      <td>1</td>\n",
       "      <td>0</td>\n",
       "      <td>1420332726637uyIZR2O</td>\n",
       "      <td>1581173072343wnwm3q</td>\n",
       "      <td>10092752</td>\n",
       "      <td>10094375:1640918979673;10084835:1640836934361;...</td>\n",
       "      <td>1641039890894</td>\n",
       "      <td>2203920</td>\n",
       "      <td>1583865</td>\n",
       "      <td>2326891</td>\n",
       "      <td>3585570</td>\n",
       "      <td>1518261</td>\n",
       "      <td>3058140</td>\n",
       "    </tr>\n",
       "    <tr>\n",
       "      <th>1</th>\n",
       "      <td>2</td>\n",
       "      <td>0</td>\n",
       "      <td>1420332726637uyIZR2O</td>\n",
       "      <td>1581173072343wnwm3q</td>\n",
       "      <td>10085565</td>\n",
       "      <td>10094375:1640918979673;10084835:1640836934361;...</td>\n",
       "      <td>1641039890894</td>\n",
       "      <td>2203920</td>\n",
       "      <td>1583865</td>\n",
       "      <td>2326891</td>\n",
       "      <td>3585570</td>\n",
       "      <td>1518261</td>\n",
       "      <td>3058140</td>\n",
       "    </tr>\n",
       "    <tr>\n",
       "      <th>2</th>\n",
       "      <td>3</td>\n",
       "      <td>0</td>\n",
       "      <td>1420332726637uyIZR2O</td>\n",
       "      <td>1581173072343wnwm3q</td>\n",
       "      <td>10105937</td>\n",
       "      <td>10094375:1640918979673;10084835:1640836934361;...</td>\n",
       "      <td>1641039890894</td>\n",
       "      <td>2203920</td>\n",
       "      <td>1583865</td>\n",
       "      <td>2326891</td>\n",
       "      <td>3585570</td>\n",
       "      <td>1518261</td>\n",
       "      <td>3058140</td>\n",
       "    </tr>\n",
       "    <tr>\n",
       "      <th>3</th>\n",
       "      <td>4</td>\n",
       "      <td>0</td>\n",
       "      <td>1420332726637uyIZR2O</td>\n",
       "      <td>1581173072343wnwm3q</td>\n",
       "      <td>10082274</td>\n",
       "      <td>10094375:1640918979673;10084835:1640836934361;...</td>\n",
       "      <td>1641039890894</td>\n",
       "      <td>2203920</td>\n",
       "      <td>1583865</td>\n",
       "      <td>2326891</td>\n",
       "      <td>3585570</td>\n",
       "      <td>1518261</td>\n",
       "      <td>3058140</td>\n",
       "    </tr>\n",
       "    <tr>\n",
       "      <th>4</th>\n",
       "      <td>5</td>\n",
       "      <td>0</td>\n",
       "      <td>1420332726637uyIZR2O</td>\n",
       "      <td>1581173072343wnwm3q</td>\n",
       "      <td>10083446</td>\n",
       "      <td>10094375:1640918979673;10084835:1640836934361;...</td>\n",
       "      <td>1641039890894</td>\n",
       "      <td>2203920</td>\n",
       "      <td>1583865</td>\n",
       "      <td>2326891</td>\n",
       "      <td>3585570</td>\n",
       "      <td>1518261</td>\n",
       "      <td>3058140</td>\n",
       "    </tr>\n",
       "  </tbody>\n",
       "</table>\n",
       "</div>"
      ],
      "text/plain": [
       "   sampleId  label                  pvId                  suv    itemId  \\\n",
       "0         1      0  1420332726637uyIZR2O  1581173072343wnwm3q  10092752   \n",
       "1         2      0  1420332726637uyIZR2O  1581173072343wnwm3q  10085565   \n",
       "2         3      0  1420332726637uyIZR2O  1581173072343wnwm3q  10105937   \n",
       "3         4      0  1420332726637uyIZR2O  1581173072343wnwm3q  10082274   \n",
       "4         5      0  1420332726637uyIZR2O  1581173072343wnwm3q  10083446   \n",
       "\n",
       "                                             userSeq          logTs  operator  \\\n",
       "0  10094375:1640918979673;10084835:1640836934361;...  1641039890894   2203920   \n",
       "1  10094375:1640918979673;10084835:1640836934361;...  1641039890894   2203920   \n",
       "2  10094375:1640918979673;10084835:1640836934361;...  1641039890894   2203920   \n",
       "3  10094375:1640918979673;10084835:1640836934361;...  1641039890894   2203920   \n",
       "4  10094375:1640918979673;10084835:1640836934361;...  1641039890894   2203920   \n",
       "\n",
       "   browserType  deviceType   osType  province     city  \n",
       "0      1583865     2326891  3585570   1518261  3058140  \n",
       "1      1583865     2326891  3585570   1518261  3058140  \n",
       "2      1583865     2326891  3585570   1518261  3058140  \n",
       "3      1583865     2326891  3585570   1518261  3058140  \n",
       "4      1583865     2326891  3585570   1518261  3058140  "
      ]
     },
     "execution_count": 7,
     "metadata": {},
     "output_type": "execute_result"
    }
   ],
   "source": [
    "data.head()"
   ]
  },
  {
   "cell_type": "code",
   "execution_count": null,
   "metadata": {},
   "outputs": [],
   "source": [
    "#数据处理\n"
   ]
  },
  {
   "cell_type": "code",
   "execution_count": 8,
   "metadata": {},
   "outputs": [],
   "source": [
    "##config\n",
    "EMBEDDING_SIZE = 10\n",
    "HIDDEN_SIZE = 128"
   ]
  },
  {
   "cell_type": "markdown",
   "metadata": {},
   "source": [
    "# 1.制作inputs"
   ]
  },
  {
   "cell_type": "code",
   "execution_count": 9,
   "metadata": {},
   "outputs": [],
   "source": [
    "inputs = {\n",
    "    'itemId' : tf.keras.layers.Input(name='itemId', shape=(), dtype='int32'),\n",
    "    'city' : tf.keras.layers.Input(name='city', shape=(), dtype='int32')\n",
    "}\n"
   ]
  },
  {
   "cell_type": "code",
   "execution_count": 10,
   "metadata": {},
   "outputs": [
    {
     "data": {
      "text/plain": [
       "{'itemId': <KerasTensor: shape=(None,) dtype=int32 (created by layer 'itemId')>,\n",
       " 'city': <KerasTensor: shape=(None,) dtype=int32 (created by layer 'city')>}"
      ]
     },
     "execution_count": 10,
     "metadata": {},
     "output_type": "execute_result"
    }
   ],
   "source": [
    "inputs"
   ]
  },
  {
   "cell_type": "markdown",
   "metadata": {},
   "source": [
    "# 2.制作feature_columns"
   ]
  },
  {
   "cell_type": "code",
   "execution_count": 11,
   "metadata": {},
   "outputs": [],
   "source": [
    "feature_columns = {}\n",
    "feature_columns['itemId'] = tf.feature_column.embedding_column(tf.feature_column.categorical_column_with_identity(key='itemId',num_buckets=100000) ,EMBEDDING_SIZE)\n",
    "feature_columns['city'] = tf.feature_column.embedding_column(tf.feature_column.categorical_column_with_identity(key='city',num_buckets=4164526) ,EMBEDDING_SIZE)"
   ]
  },
  {
   "cell_type": "code",
   "execution_count": 12,
   "metadata": {},
   "outputs": [
    {
     "data": {
      "text/plain": [
       "{'itemId': EmbeddingColumn(categorical_column=IdentityCategoricalColumn(key='itemId', number_buckets=100000, default_value=None), dimension=10, combiner='mean', initializer=<tensorflow.python.ops.init_ops.TruncatedNormal object at 0x7f407474ff70>, ckpt_to_load_from=None, tensor_name_in_ckpt=None, max_norm=None, trainable=True, use_safe_embedding_lookup=True),\n",
       " 'city': EmbeddingColumn(categorical_column=IdentityCategoricalColumn(key='city', number_buckets=4164526, default_value=None), dimension=10, combiner='mean', initializer=<tensorflow.python.ops.init_ops.TruncatedNormal object at 0x7f407474ffd0>, ckpt_to_load_from=None, tensor_name_in_ckpt=None, max_norm=None, trainable=True, use_safe_embedding_lookup=True)}"
      ]
     },
     "execution_count": 12,
     "metadata": {},
     "output_type": "execute_result"
    }
   ],
   "source": [
    "feature_columns"
   ]
  },
  {
   "cell_type": "code",
   "execution_count": 13,
   "metadata": {},
   "outputs": [],
   "source": [
    "item_features = tf.keras.layers.DenseFeatures(feature_columns['city'])(inputs)"
   ]
  },
  {
   "cell_type": "code",
   "execution_count": 14,
   "metadata": {},
   "outputs": [],
   "source": [
    "#model\n",
    "outputs = tf.keras.layers.Dense(1024,activation='relu')(item_features)\n",
    "outputs = tf.keras.layers.Dense(256,activation='relu')(outputs)\n",
    "outputs = tf.keras.layers.Dense(1,activation='sigmoid')(outputs)\n",
    "model = tf.keras.Model(inputs, outputs)"
   ]
  },
  {
   "cell_type": "code",
   "execution_count": 15,
   "metadata": {},
   "outputs": [
    {
     "name": "stderr",
     "output_type": "stream",
     "text": [
      "/root/miniconda3/lib/python3.8/site-packages/keras/engine/functional.py:566: UserWarning: Input dict contained keys ['sampleId', 'pvId', 'suv', 'userSeq', 'logTs', 'operator', 'browserType', 'deviceType', 'osType', 'province'] which did not match any model input. They will be ignored by the model.\n",
      "  inputs = self._flatten_to_reference_inputs(inputs)\n"
     ]
    },
    {
     "name": "stdout",
     "output_type": "stream",
     "text": [
      "     25/Unknown - 3s 7ms/step - loss: 0.6688 - accuracy: 0.7819"
     ]
    },
    {
     "name": "stderr",
     "output_type": "stream",
     "text": [
      "2023-01-15 17:01:30.331856: I tensorflow/stream_executor/cuda/cuda_blas.cc:1786] TensorFloat-32 will be used for the matrix multiplication. This will only be logged once.\n"
     ]
    },
    {
     "name": "stdout",
     "output_type": "stream",
     "text": [
      "65154/65154 [==============================] - 286s 4ms/step - loss: 0.4896 - accuracy: 0.8075\n"
     ]
    }
   ],
   "source": [
    "\n",
    "model.compile(\n",
    "    loss='binary_crossentropy',\n",
    "    optimizer='sgd',\n",
    "    metrics=['accuracy'])\n",
    "\n",
    "#train\n",
    "history = model.fit(train_ds, epochs=1)"
   ]
  },
  {
   "cell_type": "code",
   "execution_count": 16,
   "metadata": {},
   "outputs": [
    {
     "name": "stdout",
     "output_type": "stream",
     "text": [
      "1000/1000 [==============================] - 4s 4ms/step - loss: 0.5206 - accuracy: 0.7875\n"
     ]
    }
   ],
   "source": [
    "test_loss, test_accuracy = model.evaluate(val_ds)\n"
   ]
  }
 ],
 "metadata": {
  "kernelspec": {
   "display_name": "Python 3.8.10 ('base': conda)",
   "language": "python",
   "name": "python3"
  },
  "language_info": {
   "codemirror_mode": {
    "name": "ipython",
    "version": 3
   },
   "file_extension": ".py",
   "mimetype": "text/x-python",
   "name": "python",
   "nbconvert_exporter": "python",
   "pygments_lexer": "ipython3",
   "version": "3.8.10"
  },
  "vscode": {
   "interpreter": {
    "hash": "2f394aca7ca06fed1e6064aef884364492d7cdda3614a461e02e6407fc40ba69"
   }
  }
 },
 "nbformat": 4,
 "nbformat_minor": 4
}
